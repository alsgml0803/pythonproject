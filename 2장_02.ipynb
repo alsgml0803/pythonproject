{
 "cells": [
  {
   "cell_type": "code",
   "execution_count": 1,
   "id": "7414127c-4f5c-486d-b881-8a96ba036ebb",
   "metadata": {},
   "outputs": [],
   "source": [
    "import sklearn"
   ]
  },
  {
   "cell_type": "code",
   "execution_count": 2,
   "id": "adbaec21-1435-4633-ba58-f937123483db",
   "metadata": {},
   "outputs": [
    {
     "data": {
      "text/plain": [
       "'0.24.1'"
      ]
     },
     "execution_count": 2,
     "metadata": {},
     "output_type": "execute_result"
    }
   ],
   "source": [
    "# 버전확인\n",
    "sklearn.__version__"
   ]
  },
  {
   "cell_type": "code",
   "execution_count": 3,
   "id": "caf7eb0a-285b-4dd2-a4dd-15e35cbb2add",
   "metadata": {},
   "outputs": [],
   "source": [
    "from sklearn.datasets import load_iris\n",
    "from sklearn.tree import DecisionTreeClassifier # 분류용 데이터에 사용\n",
    "# from sklearn.tree import DecisionTreeRegressor # 회귀용 데이터에 사용\n",
    "from sklearn.model_selection import train_test_split"
   ]
  },
  {
   "cell_type": "code",
   "execution_count": 4,
   "id": "9a20f688-d22b-4bf6-9db6-e576e81a4c54",
   "metadata": {},
   "outputs": [],
   "source": [
    "import pandas as pd"
   ]
  },
  {
   "cell_type": "code",
   "execution_count": 5,
   "id": "8f06fc49-06d5-47f0-bd2e-9fd656daafd3",
   "metadata": {},
   "outputs": [],
   "source": [
    "iris = load_iris() # shift+tab 하면 뭐 볼 수 있음"
   ]
  },
  {
   "cell_type": "code",
   "execution_count": 6,
   "id": "eb161790-16cd-40af-ba13-472e575c3226",
   "metadata": {},
   "outputs": [
    {
     "data": {
      "text/plain": [
       "sklearn.utils.Bunch"
      ]
     },
     "execution_count": 6,
     "metadata": {},
     "output_type": "execute_result"
    }
   ],
   "source": [
    "type(iris)  # 딕셔너리같아 보였지만 아님. bunch라는 어쩌구임. 그래도 딕셔너리처럼 쓸 수 있음"
   ]
  },
  {
   "cell_type": "code",
   "execution_count": 7,
   "id": "089aa355-fbad-4199-bdc8-69c2fac44f94",
   "metadata": {},
   "outputs": [
    {
     "data": {
      "text/plain": [
       "dict_keys(['data', 'target', 'frame', 'target_names', 'DESCR', 'feature_names', 'filename'])"
      ]
     },
     "execution_count": 7,
     "metadata": {},
     "output_type": "execute_result"
    }
   ],
   "source": [
    "iris.keys()"
   ]
  },
  {
   "cell_type": "code",
   "execution_count": 8,
   "id": "63f8d51f-5046-4fdf-b7df-f34eabc9d55e",
   "metadata": {
    "tags": []
   },
   "outputs": [
    {
     "data": {
      "text/plain": [
       "array([[5.1, 3.5, 1.4, 0.2],\n",
       "       [4.9, 3. , 1.4, 0.2],\n",
       "       [4.7, 3.2, 1.3, 0.2],\n",
       "       [4.6, 3.1, 1.5, 0.2],\n",
       "       [5. , 3.6, 1.4, 0.2],\n",
       "       [5.4, 3.9, 1.7, 0.4],\n",
       "       [4.6, 3.4, 1.4, 0.3],\n",
       "       [5. , 3.4, 1.5, 0.2],\n",
       "       [4.4, 2.9, 1.4, 0.2],\n",
       "       [4.9, 3.1, 1.5, 0.1],\n",
       "       [5.4, 3.7, 1.5, 0.2],\n",
       "       [4.8, 3.4, 1.6, 0.2],\n",
       "       [4.8, 3. , 1.4, 0.1],\n",
       "       [4.3, 3. , 1.1, 0.1],\n",
       "       [5.8, 4. , 1.2, 0.2],\n",
       "       [5.7, 4.4, 1.5, 0.4],\n",
       "       [5.4, 3.9, 1.3, 0.4],\n",
       "       [5.1, 3.5, 1.4, 0.3],\n",
       "       [5.7, 3.8, 1.7, 0.3],\n",
       "       [5.1, 3.8, 1.5, 0.3],\n",
       "       [5.4, 3.4, 1.7, 0.2],\n",
       "       [5.1, 3.7, 1.5, 0.4],\n",
       "       [4.6, 3.6, 1. , 0.2],\n",
       "       [5.1, 3.3, 1.7, 0.5],\n",
       "       [4.8, 3.4, 1.9, 0.2],\n",
       "       [5. , 3. , 1.6, 0.2],\n",
       "       [5. , 3.4, 1.6, 0.4],\n",
       "       [5.2, 3.5, 1.5, 0.2],\n",
       "       [5.2, 3.4, 1.4, 0.2],\n",
       "       [4.7, 3.2, 1.6, 0.2],\n",
       "       [4.8, 3.1, 1.6, 0.2],\n",
       "       [5.4, 3.4, 1.5, 0.4],\n",
       "       [5.2, 4.1, 1.5, 0.1],\n",
       "       [5.5, 4.2, 1.4, 0.2],\n",
       "       [4.9, 3.1, 1.5, 0.2],\n",
       "       [5. , 3.2, 1.2, 0.2],\n",
       "       [5.5, 3.5, 1.3, 0.2],\n",
       "       [4.9, 3.6, 1.4, 0.1],\n",
       "       [4.4, 3. , 1.3, 0.2],\n",
       "       [5.1, 3.4, 1.5, 0.2],\n",
       "       [5. , 3.5, 1.3, 0.3],\n",
       "       [4.5, 2.3, 1.3, 0.3],\n",
       "       [4.4, 3.2, 1.3, 0.2],\n",
       "       [5. , 3.5, 1.6, 0.6],\n",
       "       [5.1, 3.8, 1.9, 0.4],\n",
       "       [4.8, 3. , 1.4, 0.3],\n",
       "       [5.1, 3.8, 1.6, 0.2],\n",
       "       [4.6, 3.2, 1.4, 0.2],\n",
       "       [5.3, 3.7, 1.5, 0.2],\n",
       "       [5. , 3.3, 1.4, 0.2],\n",
       "       [7. , 3.2, 4.7, 1.4],\n",
       "       [6.4, 3.2, 4.5, 1.5],\n",
       "       [6.9, 3.1, 4.9, 1.5],\n",
       "       [5.5, 2.3, 4. , 1.3],\n",
       "       [6.5, 2.8, 4.6, 1.5],\n",
       "       [5.7, 2.8, 4.5, 1.3],\n",
       "       [6.3, 3.3, 4.7, 1.6],\n",
       "       [4.9, 2.4, 3.3, 1. ],\n",
       "       [6.6, 2.9, 4.6, 1.3],\n",
       "       [5.2, 2.7, 3.9, 1.4],\n",
       "       [5. , 2. , 3.5, 1. ],\n",
       "       [5.9, 3. , 4.2, 1.5],\n",
       "       [6. , 2.2, 4. , 1. ],\n",
       "       [6.1, 2.9, 4.7, 1.4],\n",
       "       [5.6, 2.9, 3.6, 1.3],\n",
       "       [6.7, 3.1, 4.4, 1.4],\n",
       "       [5.6, 3. , 4.5, 1.5],\n",
       "       [5.8, 2.7, 4.1, 1. ],\n",
       "       [6.2, 2.2, 4.5, 1.5],\n",
       "       [5.6, 2.5, 3.9, 1.1],\n",
       "       [5.9, 3.2, 4.8, 1.8],\n",
       "       [6.1, 2.8, 4. , 1.3],\n",
       "       [6.3, 2.5, 4.9, 1.5],\n",
       "       [6.1, 2.8, 4.7, 1.2],\n",
       "       [6.4, 2.9, 4.3, 1.3],\n",
       "       [6.6, 3. , 4.4, 1.4],\n",
       "       [6.8, 2.8, 4.8, 1.4],\n",
       "       [6.7, 3. , 5. , 1.7],\n",
       "       [6. , 2.9, 4.5, 1.5],\n",
       "       [5.7, 2.6, 3.5, 1. ],\n",
       "       [5.5, 2.4, 3.8, 1.1],\n",
       "       [5.5, 2.4, 3.7, 1. ],\n",
       "       [5.8, 2.7, 3.9, 1.2],\n",
       "       [6. , 2.7, 5.1, 1.6],\n",
       "       [5.4, 3. , 4.5, 1.5],\n",
       "       [6. , 3.4, 4.5, 1.6],\n",
       "       [6.7, 3.1, 4.7, 1.5],\n",
       "       [6.3, 2.3, 4.4, 1.3],\n",
       "       [5.6, 3. , 4.1, 1.3],\n",
       "       [5.5, 2.5, 4. , 1.3],\n",
       "       [5.5, 2.6, 4.4, 1.2],\n",
       "       [6.1, 3. , 4.6, 1.4],\n",
       "       [5.8, 2.6, 4. , 1.2],\n",
       "       [5. , 2.3, 3.3, 1. ],\n",
       "       [5.6, 2.7, 4.2, 1.3],\n",
       "       [5.7, 3. , 4.2, 1.2],\n",
       "       [5.7, 2.9, 4.2, 1.3],\n",
       "       [6.2, 2.9, 4.3, 1.3],\n",
       "       [5.1, 2.5, 3. , 1.1],\n",
       "       [5.7, 2.8, 4.1, 1.3],\n",
       "       [6.3, 3.3, 6. , 2.5],\n",
       "       [5.8, 2.7, 5.1, 1.9],\n",
       "       [7.1, 3. , 5.9, 2.1],\n",
       "       [6.3, 2.9, 5.6, 1.8],\n",
       "       [6.5, 3. , 5.8, 2.2],\n",
       "       [7.6, 3. , 6.6, 2.1],\n",
       "       [4.9, 2.5, 4.5, 1.7],\n",
       "       [7.3, 2.9, 6.3, 1.8],\n",
       "       [6.7, 2.5, 5.8, 1.8],\n",
       "       [7.2, 3.6, 6.1, 2.5],\n",
       "       [6.5, 3.2, 5.1, 2. ],\n",
       "       [6.4, 2.7, 5.3, 1.9],\n",
       "       [6.8, 3. , 5.5, 2.1],\n",
       "       [5.7, 2.5, 5. , 2. ],\n",
       "       [5.8, 2.8, 5.1, 2.4],\n",
       "       [6.4, 3.2, 5.3, 2.3],\n",
       "       [6.5, 3. , 5.5, 1.8],\n",
       "       [7.7, 3.8, 6.7, 2.2],\n",
       "       [7.7, 2.6, 6.9, 2.3],\n",
       "       [6. , 2.2, 5. , 1.5],\n",
       "       [6.9, 3.2, 5.7, 2.3],\n",
       "       [5.6, 2.8, 4.9, 2. ],\n",
       "       [7.7, 2.8, 6.7, 2. ],\n",
       "       [6.3, 2.7, 4.9, 1.8],\n",
       "       [6.7, 3.3, 5.7, 2.1],\n",
       "       [7.2, 3.2, 6. , 1.8],\n",
       "       [6.2, 2.8, 4.8, 1.8],\n",
       "       [6.1, 3. , 4.9, 1.8],\n",
       "       [6.4, 2.8, 5.6, 2.1],\n",
       "       [7.2, 3. , 5.8, 1.6],\n",
       "       [7.4, 2.8, 6.1, 1.9],\n",
       "       [7.9, 3.8, 6.4, 2. ],\n",
       "       [6.4, 2.8, 5.6, 2.2],\n",
       "       [6.3, 2.8, 5.1, 1.5],\n",
       "       [6.1, 2.6, 5.6, 1.4],\n",
       "       [7.7, 3. , 6.1, 2.3],\n",
       "       [6.3, 3.4, 5.6, 2.4],\n",
       "       [6.4, 3.1, 5.5, 1.8],\n",
       "       [6. , 3. , 4.8, 1.8],\n",
       "       [6.9, 3.1, 5.4, 2.1],\n",
       "       [6.7, 3.1, 5.6, 2.4],\n",
       "       [6.9, 3.1, 5.1, 2.3],\n",
       "       [5.8, 2.7, 5.1, 1.9],\n",
       "       [6.8, 3.2, 5.9, 2.3],\n",
       "       [6.7, 3.3, 5.7, 2.5],\n",
       "       [6.7, 3. , 5.2, 2.3],\n",
       "       [6.3, 2.5, 5. , 1.9],\n",
       "       [6.5, 3. , 5.2, 2. ],\n",
       "       [6.2, 3.4, 5.4, 2.3],\n",
       "       [5.9, 3. , 5.1, 1.8]])"
      ]
     },
     "execution_count": 8,
     "metadata": {},
     "output_type": "execute_result"
    }
   ],
   "source": [
    "iris['data']"
   ]
  },
  {
   "cell_type": "code",
   "execution_count": 9,
   "id": "f3ba61b4-c61a-4e19-9135-480ea0796257",
   "metadata": {
    "tags": []
   },
   "outputs": [
    {
     "data": {
      "text/plain": [
       "array([[5.1, 3.5, 1.4, 0.2],\n",
       "       [4.9, 3. , 1.4, 0.2],\n",
       "       [4.7, 3.2, 1.3, 0.2],\n",
       "       [4.6, 3.1, 1.5, 0.2],\n",
       "       [5. , 3.6, 1.4, 0.2],\n",
       "       [5.4, 3.9, 1.7, 0.4],\n",
       "       [4.6, 3.4, 1.4, 0.3],\n",
       "       [5. , 3.4, 1.5, 0.2],\n",
       "       [4.4, 2.9, 1.4, 0.2],\n",
       "       [4.9, 3.1, 1.5, 0.1],\n",
       "       [5.4, 3.7, 1.5, 0.2],\n",
       "       [4.8, 3.4, 1.6, 0.2],\n",
       "       [4.8, 3. , 1.4, 0.1],\n",
       "       [4.3, 3. , 1.1, 0.1],\n",
       "       [5.8, 4. , 1.2, 0.2],\n",
       "       [5.7, 4.4, 1.5, 0.4],\n",
       "       [5.4, 3.9, 1.3, 0.4],\n",
       "       [5.1, 3.5, 1.4, 0.3],\n",
       "       [5.7, 3.8, 1.7, 0.3],\n",
       "       [5.1, 3.8, 1.5, 0.3],\n",
       "       [5.4, 3.4, 1.7, 0.2],\n",
       "       [5.1, 3.7, 1.5, 0.4],\n",
       "       [4.6, 3.6, 1. , 0.2],\n",
       "       [5.1, 3.3, 1.7, 0.5],\n",
       "       [4.8, 3.4, 1.9, 0.2],\n",
       "       [5. , 3. , 1.6, 0.2],\n",
       "       [5. , 3.4, 1.6, 0.4],\n",
       "       [5.2, 3.5, 1.5, 0.2],\n",
       "       [5.2, 3.4, 1.4, 0.2],\n",
       "       [4.7, 3.2, 1.6, 0.2],\n",
       "       [4.8, 3.1, 1.6, 0.2],\n",
       "       [5.4, 3.4, 1.5, 0.4],\n",
       "       [5.2, 4.1, 1.5, 0.1],\n",
       "       [5.5, 4.2, 1.4, 0.2],\n",
       "       [4.9, 3.1, 1.5, 0.2],\n",
       "       [5. , 3.2, 1.2, 0.2],\n",
       "       [5.5, 3.5, 1.3, 0.2],\n",
       "       [4.9, 3.6, 1.4, 0.1],\n",
       "       [4.4, 3. , 1.3, 0.2],\n",
       "       [5.1, 3.4, 1.5, 0.2],\n",
       "       [5. , 3.5, 1.3, 0.3],\n",
       "       [4.5, 2.3, 1.3, 0.3],\n",
       "       [4.4, 3.2, 1.3, 0.2],\n",
       "       [5. , 3.5, 1.6, 0.6],\n",
       "       [5.1, 3.8, 1.9, 0.4],\n",
       "       [4.8, 3. , 1.4, 0.3],\n",
       "       [5.1, 3.8, 1.6, 0.2],\n",
       "       [4.6, 3.2, 1.4, 0.2],\n",
       "       [5.3, 3.7, 1.5, 0.2],\n",
       "       [5. , 3.3, 1.4, 0.2],\n",
       "       [7. , 3.2, 4.7, 1.4],\n",
       "       [6.4, 3.2, 4.5, 1.5],\n",
       "       [6.9, 3.1, 4.9, 1.5],\n",
       "       [5.5, 2.3, 4. , 1.3],\n",
       "       [6.5, 2.8, 4.6, 1.5],\n",
       "       [5.7, 2.8, 4.5, 1.3],\n",
       "       [6.3, 3.3, 4.7, 1.6],\n",
       "       [4.9, 2.4, 3.3, 1. ],\n",
       "       [6.6, 2.9, 4.6, 1.3],\n",
       "       [5.2, 2.7, 3.9, 1.4],\n",
       "       [5. , 2. , 3.5, 1. ],\n",
       "       [5.9, 3. , 4.2, 1.5],\n",
       "       [6. , 2.2, 4. , 1. ],\n",
       "       [6.1, 2.9, 4.7, 1.4],\n",
       "       [5.6, 2.9, 3.6, 1.3],\n",
       "       [6.7, 3.1, 4.4, 1.4],\n",
       "       [5.6, 3. , 4.5, 1.5],\n",
       "       [5.8, 2.7, 4.1, 1. ],\n",
       "       [6.2, 2.2, 4.5, 1.5],\n",
       "       [5.6, 2.5, 3.9, 1.1],\n",
       "       [5.9, 3.2, 4.8, 1.8],\n",
       "       [6.1, 2.8, 4. , 1.3],\n",
       "       [6.3, 2.5, 4.9, 1.5],\n",
       "       [6.1, 2.8, 4.7, 1.2],\n",
       "       [6.4, 2.9, 4.3, 1.3],\n",
       "       [6.6, 3. , 4.4, 1.4],\n",
       "       [6.8, 2.8, 4.8, 1.4],\n",
       "       [6.7, 3. , 5. , 1.7],\n",
       "       [6. , 2.9, 4.5, 1.5],\n",
       "       [5.7, 2.6, 3.5, 1. ],\n",
       "       [5.5, 2.4, 3.8, 1.1],\n",
       "       [5.5, 2.4, 3.7, 1. ],\n",
       "       [5.8, 2.7, 3.9, 1.2],\n",
       "       [6. , 2.7, 5.1, 1.6],\n",
       "       [5.4, 3. , 4.5, 1.5],\n",
       "       [6. , 3.4, 4.5, 1.6],\n",
       "       [6.7, 3.1, 4.7, 1.5],\n",
       "       [6.3, 2.3, 4.4, 1.3],\n",
       "       [5.6, 3. , 4.1, 1.3],\n",
       "       [5.5, 2.5, 4. , 1.3],\n",
       "       [5.5, 2.6, 4.4, 1.2],\n",
       "       [6.1, 3. , 4.6, 1.4],\n",
       "       [5.8, 2.6, 4. , 1.2],\n",
       "       [5. , 2.3, 3.3, 1. ],\n",
       "       [5.6, 2.7, 4.2, 1.3],\n",
       "       [5.7, 3. , 4.2, 1.2],\n",
       "       [5.7, 2.9, 4.2, 1.3],\n",
       "       [6.2, 2.9, 4.3, 1.3],\n",
       "       [5.1, 2.5, 3. , 1.1],\n",
       "       [5.7, 2.8, 4.1, 1.3],\n",
       "       [6.3, 3.3, 6. , 2.5],\n",
       "       [5.8, 2.7, 5.1, 1.9],\n",
       "       [7.1, 3. , 5.9, 2.1],\n",
       "       [6.3, 2.9, 5.6, 1.8],\n",
       "       [6.5, 3. , 5.8, 2.2],\n",
       "       [7.6, 3. , 6.6, 2.1],\n",
       "       [4.9, 2.5, 4.5, 1.7],\n",
       "       [7.3, 2.9, 6.3, 1.8],\n",
       "       [6.7, 2.5, 5.8, 1.8],\n",
       "       [7.2, 3.6, 6.1, 2.5],\n",
       "       [6.5, 3.2, 5.1, 2. ],\n",
       "       [6.4, 2.7, 5.3, 1.9],\n",
       "       [6.8, 3. , 5.5, 2.1],\n",
       "       [5.7, 2.5, 5. , 2. ],\n",
       "       [5.8, 2.8, 5.1, 2.4],\n",
       "       [6.4, 3.2, 5.3, 2.3],\n",
       "       [6.5, 3. , 5.5, 1.8],\n",
       "       [7.7, 3.8, 6.7, 2.2],\n",
       "       [7.7, 2.6, 6.9, 2.3],\n",
       "       [6. , 2.2, 5. , 1.5],\n",
       "       [6.9, 3.2, 5.7, 2.3],\n",
       "       [5.6, 2.8, 4.9, 2. ],\n",
       "       [7.7, 2.8, 6.7, 2. ],\n",
       "       [6.3, 2.7, 4.9, 1.8],\n",
       "       [6.7, 3.3, 5.7, 2.1],\n",
       "       [7.2, 3.2, 6. , 1.8],\n",
       "       [6.2, 2.8, 4.8, 1.8],\n",
       "       [6.1, 3. , 4.9, 1.8],\n",
       "       [6.4, 2.8, 5.6, 2.1],\n",
       "       [7.2, 3. , 5.8, 1.6],\n",
       "       [7.4, 2.8, 6.1, 1.9],\n",
       "       [7.9, 3.8, 6.4, 2. ],\n",
       "       [6.4, 2.8, 5.6, 2.2],\n",
       "       [6.3, 2.8, 5.1, 1.5],\n",
       "       [6.1, 2.6, 5.6, 1.4],\n",
       "       [7.7, 3. , 6.1, 2.3],\n",
       "       [6.3, 3.4, 5.6, 2.4],\n",
       "       [6.4, 3.1, 5.5, 1.8],\n",
       "       [6. , 3. , 4.8, 1.8],\n",
       "       [6.9, 3.1, 5.4, 2.1],\n",
       "       [6.7, 3.1, 5.6, 2.4],\n",
       "       [6.9, 3.1, 5.1, 2.3],\n",
       "       [5.8, 2.7, 5.1, 1.9],\n",
       "       [6.8, 3.2, 5.9, 2.3],\n",
       "       [6.7, 3.3, 5.7, 2.5],\n",
       "       [6.7, 3. , 5.2, 2.3],\n",
       "       [6.3, 2.5, 5. , 1.9],\n",
       "       [6.5, 3. , 5.2, 2. ],\n",
       "       [6.2, 3.4, 5.4, 2.3],\n",
       "       [5.9, 3. , 5.1, 1.8]])"
      ]
     },
     "execution_count": 9,
     "metadata": {},
     "output_type": "execute_result"
    }
   ],
   "source": [
    "iris.data"
   ]
  },
  {
   "cell_type": "code",
   "execution_count": 10,
   "id": "707ce6bd-a777-49b5-9107-f865c1f10b24",
   "metadata": {},
   "outputs": [
    {
     "data": {
      "text/plain": [
       "array([0, 0, 0, 0, 0, 0, 0, 0, 0, 0, 0, 0, 0, 0, 0, 0, 0, 0, 0, 0, 0, 0,\n",
       "       0, 0, 0, 0, 0, 0, 0, 0, 0, 0, 0, 0, 0, 0, 0, 0, 0, 0, 0, 0, 0, 0,\n",
       "       0, 0, 0, 0, 0, 0, 1, 1, 1, 1, 1, 1, 1, 1, 1, 1, 1, 1, 1, 1, 1, 1,\n",
       "       1, 1, 1, 1, 1, 1, 1, 1, 1, 1, 1, 1, 1, 1, 1, 1, 1, 1, 1, 1, 1, 1,\n",
       "       1, 1, 1, 1, 1, 1, 1, 1, 1, 1, 1, 1, 2, 2, 2, 2, 2, 2, 2, 2, 2, 2,\n",
       "       2, 2, 2, 2, 2, 2, 2, 2, 2, 2, 2, 2, 2, 2, 2, 2, 2, 2, 2, 2, 2, 2,\n",
       "       2, 2, 2, 2, 2, 2, 2, 2, 2, 2, 2, 2, 2, 2, 2, 2, 2, 2])"
      ]
     },
     "execution_count": 10,
     "metadata": {},
     "output_type": "execute_result"
    }
   ],
   "source": [
    "iris.target"
   ]
  },
  {
   "cell_type": "code",
   "execution_count": 11,
   "id": "053de2d9-a893-4d04-896e-3bfd92ae7717",
   "metadata": {},
   "outputs": [
    {
     "data": {
      "text/plain": [
       "array(['setosa', 'versicolor', 'virginica'], dtype='<U10')"
      ]
     },
     "execution_count": 11,
     "metadata": {},
     "output_type": "execute_result"
    }
   ],
   "source": [
    "iris.target_names"
   ]
  },
  {
   "cell_type": "code",
   "execution_count": 12,
   "id": "55040b64-c404-4426-8f96-694af137373b",
   "metadata": {},
   "outputs": [],
   "source": [
    "iris = load_iris(as_frame = True)"
   ]
  },
  {
   "cell_type": "code",
   "execution_count": 13,
   "id": "c1478f87-b935-4042-9fa7-829d4eb4fffd",
   "metadata": {},
   "outputs": [
    {
     "data": {
      "text/plain": [
       "sklearn.utils.Bunch"
      ]
     },
     "execution_count": 13,
     "metadata": {},
     "output_type": "execute_result"
    }
   ],
   "source": [
    "type(iris)"
   ]
  },
  {
   "cell_type": "code",
   "execution_count": 14,
   "id": "09cfa1d3-a9ce-4adc-9274-45cfbb8f924e",
   "metadata": {
    "tags": []
   },
   "outputs": [
    {
     "data": {
      "text/plain": [
       "{'data':      sepal length (cm)  sepal width (cm)  petal length (cm)  petal width (cm)\n",
       " 0                  5.1               3.5                1.4               0.2\n",
       " 1                  4.9               3.0                1.4               0.2\n",
       " 2                  4.7               3.2                1.3               0.2\n",
       " 3                  4.6               3.1                1.5               0.2\n",
       " 4                  5.0               3.6                1.4               0.2\n",
       " ..                 ...               ...                ...               ...\n",
       " 145                6.7               3.0                5.2               2.3\n",
       " 146                6.3               2.5                5.0               1.9\n",
       " 147                6.5               3.0                5.2               2.0\n",
       " 148                6.2               3.4                5.4               2.3\n",
       " 149                5.9               3.0                5.1               1.8\n",
       " \n",
       " [150 rows x 4 columns],\n",
       " 'target': 0      0\n",
       " 1      0\n",
       " 2      0\n",
       " 3      0\n",
       " 4      0\n",
       "       ..\n",
       " 145    2\n",
       " 146    2\n",
       " 147    2\n",
       " 148    2\n",
       " 149    2\n",
       " Name: target, Length: 150, dtype: int32,\n",
       " 'frame':      sepal length (cm)  sepal width (cm)  petal length (cm)  petal width (cm)  \\\n",
       " 0                  5.1               3.5                1.4               0.2   \n",
       " 1                  4.9               3.0                1.4               0.2   \n",
       " 2                  4.7               3.2                1.3               0.2   \n",
       " 3                  4.6               3.1                1.5               0.2   \n",
       " 4                  5.0               3.6                1.4               0.2   \n",
       " ..                 ...               ...                ...               ...   \n",
       " 145                6.7               3.0                5.2               2.3   \n",
       " 146                6.3               2.5                5.0               1.9   \n",
       " 147                6.5               3.0                5.2               2.0   \n",
       " 148                6.2               3.4                5.4               2.3   \n",
       " 149                5.9               3.0                5.1               1.8   \n",
       " \n",
       "      target  \n",
       " 0         0  \n",
       " 1         0  \n",
       " 2         0  \n",
       " 3         0  \n",
       " 4         0  \n",
       " ..      ...  \n",
       " 145       2  \n",
       " 146       2  \n",
       " 147       2  \n",
       " 148       2  \n",
       " 149       2  \n",
       " \n",
       " [150 rows x 5 columns],\n",
       " 'target_names': array(['setosa', 'versicolor', 'virginica'], dtype='<U10'),\n",
       " 'DESCR': '.. _iris_dataset:\\n\\nIris plants dataset\\n--------------------\\n\\n**Data Set Characteristics:**\\n\\n    :Number of Instances: 150 (50 in each of three classes)\\n    :Number of Attributes: 4 numeric, predictive attributes and the class\\n    :Attribute Information:\\n        - sepal length in cm\\n        - sepal width in cm\\n        - petal length in cm\\n        - petal width in cm\\n        - class:\\n                - Iris-Setosa\\n                - Iris-Versicolour\\n                - Iris-Virginica\\n                \\n    :Summary Statistics:\\n\\n    ============== ==== ==== ======= ===== ====================\\n                    Min  Max   Mean    SD   Class Correlation\\n    ============== ==== ==== ======= ===== ====================\\n    sepal length:   4.3  7.9   5.84   0.83    0.7826\\n    sepal width:    2.0  4.4   3.05   0.43   -0.4194\\n    petal length:   1.0  6.9   3.76   1.76    0.9490  (high!)\\n    petal width:    0.1  2.5   1.20   0.76    0.9565  (high!)\\n    ============== ==== ==== ======= ===== ====================\\n\\n    :Missing Attribute Values: None\\n    :Class Distribution: 33.3% for each of 3 classes.\\n    :Creator: R.A. Fisher\\n    :Donor: Michael Marshall (MARSHALL%PLU@io.arc.nasa.gov)\\n    :Date: July, 1988\\n\\nThe famous Iris database, first used by Sir R.A. Fisher. The dataset is taken\\nfrom Fisher\\'s paper. Note that it\\'s the same as in R, but not as in the UCI\\nMachine Learning Repository, which has two wrong data points.\\n\\nThis is perhaps the best known database to be found in the\\npattern recognition literature.  Fisher\\'s paper is a classic in the field and\\nis referenced frequently to this day.  (See Duda & Hart, for example.)  The\\ndata set contains 3 classes of 50 instances each, where each class refers to a\\ntype of iris plant.  One class is linearly separable from the other 2; the\\nlatter are NOT linearly separable from each other.\\n\\n.. topic:: References\\n\\n   - Fisher, R.A. \"The use of multiple measurements in taxonomic problems\"\\n     Annual Eugenics, 7, Part II, 179-188 (1936); also in \"Contributions to\\n     Mathematical Statistics\" (John Wiley, NY, 1950).\\n   - Duda, R.O., & Hart, P.E. (1973) Pattern Classification and Scene Analysis.\\n     (Q327.D83) John Wiley & Sons.  ISBN 0-471-22361-1.  See page 218.\\n   - Dasarathy, B.V. (1980) \"Nosing Around the Neighborhood: A New System\\n     Structure and Classification Rule for Recognition in Partially Exposed\\n     Environments\".  IEEE Transactions on Pattern Analysis and Machine\\n     Intelligence, Vol. PAMI-2, No. 1, 67-71.\\n   - Gates, G.W. (1972) \"The Reduced Nearest Neighbor Rule\".  IEEE Transactions\\n     on Information Theory, May 1972, 431-433.\\n   - See also: 1988 MLC Proceedings, 54-64.  Cheeseman et al\"s AUTOCLASS II\\n     conceptual clustering system finds 3 classes in the data.\\n   - Many, many more ...',\n",
       " 'feature_names': ['sepal length (cm)',\n",
       "  'sepal width (cm)',\n",
       "  'petal length (cm)',\n",
       "  'petal width (cm)'],\n",
       " 'filename': 'C:\\\\Users\\\\lool_\\\\anaconda3\\\\lib\\\\site-packages\\\\sklearn\\\\datasets\\\\data\\\\iris.csv'}"
      ]
     },
     "execution_count": 14,
     "metadata": {},
     "output_type": "execute_result"
    }
   ],
   "source": [
    "iris # as_frame = True 로 했더니 형태가 조금 변함. 데이터프레임 형태로 나오게 됨."
   ]
  },
  {
   "cell_type": "code",
   "execution_count": 15,
   "id": "ba2c6566-edec-4467-bf47-85ffb2ea99a0",
   "metadata": {},
   "outputs": [
    {
     "data": {
      "text/plain": [
       "array(['setosa', 'versicolor', 'virginica'], dtype='<U10')"
      ]
     },
     "execution_count": 15,
     "metadata": {},
     "output_type": "execute_result"
    }
   ],
   "source": [
    "iris.target_names"
   ]
  },
  {
   "cell_type": "code",
   "execution_count": 16,
   "id": "87d4366c-621d-408d-b191-c8f6a8477937",
   "metadata": {},
   "outputs": [
    {
     "data": {
      "text/html": [
       "<div>\n",
       "<style scoped>\n",
       "    .dataframe tbody tr th:only-of-type {\n",
       "        vertical-align: middle;\n",
       "    }\n",
       "\n",
       "    .dataframe tbody tr th {\n",
       "        vertical-align: top;\n",
       "    }\n",
       "\n",
       "    .dataframe thead th {\n",
       "        text-align: right;\n",
       "    }\n",
       "</style>\n",
       "<table border=\"1\" class=\"dataframe\">\n",
       "  <thead>\n",
       "    <tr style=\"text-align: right;\">\n",
       "      <th></th>\n",
       "      <th>sepal length (cm)</th>\n",
       "      <th>sepal width (cm)</th>\n",
       "      <th>petal length (cm)</th>\n",
       "      <th>petal width (cm)</th>\n",
       "    </tr>\n",
       "  </thead>\n",
       "  <tbody>\n",
       "    <tr>\n",
       "      <th>0</th>\n",
       "      <td>5.1</td>\n",
       "      <td>3.5</td>\n",
       "      <td>1.4</td>\n",
       "      <td>0.2</td>\n",
       "    </tr>\n",
       "    <tr>\n",
       "      <th>1</th>\n",
       "      <td>4.9</td>\n",
       "      <td>3.0</td>\n",
       "      <td>1.4</td>\n",
       "      <td>0.2</td>\n",
       "    </tr>\n",
       "    <tr>\n",
       "      <th>2</th>\n",
       "      <td>4.7</td>\n",
       "      <td>3.2</td>\n",
       "      <td>1.3</td>\n",
       "      <td>0.2</td>\n",
       "    </tr>\n",
       "    <tr>\n",
       "      <th>3</th>\n",
       "      <td>4.6</td>\n",
       "      <td>3.1</td>\n",
       "      <td>1.5</td>\n",
       "      <td>0.2</td>\n",
       "    </tr>\n",
       "    <tr>\n",
       "      <th>4</th>\n",
       "      <td>5.0</td>\n",
       "      <td>3.6</td>\n",
       "      <td>1.4</td>\n",
       "      <td>0.2</td>\n",
       "    </tr>\n",
       "    <tr>\n",
       "      <th>...</th>\n",
       "      <td>...</td>\n",
       "      <td>...</td>\n",
       "      <td>...</td>\n",
       "      <td>...</td>\n",
       "    </tr>\n",
       "    <tr>\n",
       "      <th>145</th>\n",
       "      <td>6.7</td>\n",
       "      <td>3.0</td>\n",
       "      <td>5.2</td>\n",
       "      <td>2.3</td>\n",
       "    </tr>\n",
       "    <tr>\n",
       "      <th>146</th>\n",
       "      <td>6.3</td>\n",
       "      <td>2.5</td>\n",
       "      <td>5.0</td>\n",
       "      <td>1.9</td>\n",
       "    </tr>\n",
       "    <tr>\n",
       "      <th>147</th>\n",
       "      <td>6.5</td>\n",
       "      <td>3.0</td>\n",
       "      <td>5.2</td>\n",
       "      <td>2.0</td>\n",
       "    </tr>\n",
       "    <tr>\n",
       "      <th>148</th>\n",
       "      <td>6.2</td>\n",
       "      <td>3.4</td>\n",
       "      <td>5.4</td>\n",
       "      <td>2.3</td>\n",
       "    </tr>\n",
       "    <tr>\n",
       "      <th>149</th>\n",
       "      <td>5.9</td>\n",
       "      <td>3.0</td>\n",
       "      <td>5.1</td>\n",
       "      <td>1.8</td>\n",
       "    </tr>\n",
       "  </tbody>\n",
       "</table>\n",
       "<p>150 rows × 4 columns</p>\n",
       "</div>"
      ],
      "text/plain": [
       "     sepal length (cm)  sepal width (cm)  petal length (cm)  petal width (cm)\n",
       "0                  5.1               3.5                1.4               0.2\n",
       "1                  4.9               3.0                1.4               0.2\n",
       "2                  4.7               3.2                1.3               0.2\n",
       "3                  4.6               3.1                1.5               0.2\n",
       "4                  5.0               3.6                1.4               0.2\n",
       "..                 ...               ...                ...               ...\n",
       "145                6.7               3.0                5.2               2.3\n",
       "146                6.3               2.5                5.0               1.9\n",
       "147                6.5               3.0                5.2               2.0\n",
       "148                6.2               3.4                5.4               2.3\n",
       "149                5.9               3.0                5.1               1.8\n",
       "\n",
       "[150 rows x 4 columns]"
      ]
     },
     "execution_count": 16,
     "metadata": {},
     "output_type": "execute_result"
    }
   ],
   "source": [
    "iris_df = iris['data']\n",
    "iris_df"
   ]
  },
  {
   "cell_type": "code",
   "execution_count": 17,
   "id": "7c228858-bf72-4612-9acb-3cd30dcb4905",
   "metadata": {},
   "outputs": [],
   "source": [
    "iris_df['target'] = iris['target']"
   ]
  },
  {
   "cell_type": "code",
   "execution_count": 18,
   "id": "a2250f3d-d0b1-4968-bae6-26fa1dc3c7cc",
   "metadata": {},
   "outputs": [
    {
     "data": {
      "text/html": [
       "<div>\n",
       "<style scoped>\n",
       "    .dataframe tbody tr th:only-of-type {\n",
       "        vertical-align: middle;\n",
       "    }\n",
       "\n",
       "    .dataframe tbody tr th {\n",
       "        vertical-align: top;\n",
       "    }\n",
       "\n",
       "    .dataframe thead th {\n",
       "        text-align: right;\n",
       "    }\n",
       "</style>\n",
       "<table border=\"1\" class=\"dataframe\">\n",
       "  <thead>\n",
       "    <tr style=\"text-align: right;\">\n",
       "      <th></th>\n",
       "      <th>sepal length (cm)</th>\n",
       "      <th>sepal width (cm)</th>\n",
       "      <th>petal length (cm)</th>\n",
       "      <th>petal width (cm)</th>\n",
       "      <th>target</th>\n",
       "    </tr>\n",
       "  </thead>\n",
       "  <tbody>\n",
       "    <tr>\n",
       "      <th>0</th>\n",
       "      <td>5.1</td>\n",
       "      <td>3.5</td>\n",
       "      <td>1.4</td>\n",
       "      <td>0.2</td>\n",
       "      <td>0</td>\n",
       "    </tr>\n",
       "    <tr>\n",
       "      <th>1</th>\n",
       "      <td>4.9</td>\n",
       "      <td>3.0</td>\n",
       "      <td>1.4</td>\n",
       "      <td>0.2</td>\n",
       "      <td>0</td>\n",
       "    </tr>\n",
       "    <tr>\n",
       "      <th>2</th>\n",
       "      <td>4.7</td>\n",
       "      <td>3.2</td>\n",
       "      <td>1.3</td>\n",
       "      <td>0.2</td>\n",
       "      <td>0</td>\n",
       "    </tr>\n",
       "    <tr>\n",
       "      <th>3</th>\n",
       "      <td>4.6</td>\n",
       "      <td>3.1</td>\n",
       "      <td>1.5</td>\n",
       "      <td>0.2</td>\n",
       "      <td>0</td>\n",
       "    </tr>\n",
       "    <tr>\n",
       "      <th>4</th>\n",
       "      <td>5.0</td>\n",
       "      <td>3.6</td>\n",
       "      <td>1.4</td>\n",
       "      <td>0.2</td>\n",
       "      <td>0</td>\n",
       "    </tr>\n",
       "    <tr>\n",
       "      <th>...</th>\n",
       "      <td>...</td>\n",
       "      <td>...</td>\n",
       "      <td>...</td>\n",
       "      <td>...</td>\n",
       "      <td>...</td>\n",
       "    </tr>\n",
       "    <tr>\n",
       "      <th>145</th>\n",
       "      <td>6.7</td>\n",
       "      <td>3.0</td>\n",
       "      <td>5.2</td>\n",
       "      <td>2.3</td>\n",
       "      <td>2</td>\n",
       "    </tr>\n",
       "    <tr>\n",
       "      <th>146</th>\n",
       "      <td>6.3</td>\n",
       "      <td>2.5</td>\n",
       "      <td>5.0</td>\n",
       "      <td>1.9</td>\n",
       "      <td>2</td>\n",
       "    </tr>\n",
       "    <tr>\n",
       "      <th>147</th>\n",
       "      <td>6.5</td>\n",
       "      <td>3.0</td>\n",
       "      <td>5.2</td>\n",
       "      <td>2.0</td>\n",
       "      <td>2</td>\n",
       "    </tr>\n",
       "    <tr>\n",
       "      <th>148</th>\n",
       "      <td>6.2</td>\n",
       "      <td>3.4</td>\n",
       "      <td>5.4</td>\n",
       "      <td>2.3</td>\n",
       "      <td>2</td>\n",
       "    </tr>\n",
       "    <tr>\n",
       "      <th>149</th>\n",
       "      <td>5.9</td>\n",
       "      <td>3.0</td>\n",
       "      <td>5.1</td>\n",
       "      <td>1.8</td>\n",
       "      <td>2</td>\n",
       "    </tr>\n",
       "  </tbody>\n",
       "</table>\n",
       "<p>150 rows × 5 columns</p>\n",
       "</div>"
      ],
      "text/plain": [
       "     sepal length (cm)  sepal width (cm)  petal length (cm)  petal width (cm)  \\\n",
       "0                  5.1               3.5                1.4               0.2   \n",
       "1                  4.9               3.0                1.4               0.2   \n",
       "2                  4.7               3.2                1.3               0.2   \n",
       "3                  4.6               3.1                1.5               0.2   \n",
       "4                  5.0               3.6                1.4               0.2   \n",
       "..                 ...               ...                ...               ...   \n",
       "145                6.7               3.0                5.2               2.3   \n",
       "146                6.3               2.5                5.0               1.9   \n",
       "147                6.5               3.0                5.2               2.0   \n",
       "148                6.2               3.4                5.4               2.3   \n",
       "149                5.9               3.0                5.1               1.8   \n",
       "\n",
       "     target  \n",
       "0         0  \n",
       "1         0  \n",
       "2         0  \n",
       "3         0  \n",
       "4         0  \n",
       "..      ...  \n",
       "145       2  \n",
       "146       2  \n",
       "147       2  \n",
       "148       2  \n",
       "149       2  \n",
       "\n",
       "[150 rows x 5 columns]"
      ]
     },
     "execution_count": 18,
     "metadata": {},
     "output_type": "execute_result"
    }
   ],
   "source": [
    "iris_df"
   ]
  },
  {
   "cell_type": "code",
   "execution_count": 19,
   "id": "d5f8fbe1-e801-48b2-88bc-7a798e484447",
   "metadata": {},
   "outputs": [
    {
     "data": {
      "text/plain": [
       "array(['setosa', 'versicolor', 'virginica'], dtype='<U10')"
      ]
     },
     "execution_count": 19,
     "metadata": {},
     "output_type": "execute_result"
    }
   ],
   "source": [
    "iris.target_names"
   ]
  },
  {
   "cell_type": "code",
   "execution_count": 20,
   "id": "d797f232-888a-4ed0-a233-51c178708041",
   "metadata": {},
   "outputs": [
    {
     "data": {
      "text/html": [
       "<div>\n",
       "<style scoped>\n",
       "    .dataframe tbody tr th:only-of-type {\n",
       "        vertical-align: middle;\n",
       "    }\n",
       "\n",
       "    .dataframe tbody tr th {\n",
       "        vertical-align: top;\n",
       "    }\n",
       "\n",
       "    .dataframe thead th {\n",
       "        text-align: right;\n",
       "    }\n",
       "</style>\n",
       "<table border=\"1\" class=\"dataframe\">\n",
       "  <thead>\n",
       "    <tr style=\"text-align: right;\">\n",
       "      <th></th>\n",
       "      <th>sepal length (cm)</th>\n",
       "      <th>sepal width (cm)</th>\n",
       "      <th>petal length (cm)</th>\n",
       "      <th>petal width (cm)</th>\n",
       "      <th>target</th>\n",
       "    </tr>\n",
       "  </thead>\n",
       "  <tbody>\n",
       "    <tr>\n",
       "      <th>0</th>\n",
       "      <td>5.1</td>\n",
       "      <td>3.5</td>\n",
       "      <td>1.4</td>\n",
       "      <td>0.2</td>\n",
       "      <td>0</td>\n",
       "    </tr>\n",
       "    <tr>\n",
       "      <th>1</th>\n",
       "      <td>4.9</td>\n",
       "      <td>3.0</td>\n",
       "      <td>1.4</td>\n",
       "      <td>0.2</td>\n",
       "      <td>0</td>\n",
       "    </tr>\n",
       "    <tr>\n",
       "      <th>2</th>\n",
       "      <td>4.7</td>\n",
       "      <td>3.2</td>\n",
       "      <td>1.3</td>\n",
       "      <td>0.2</td>\n",
       "      <td>0</td>\n",
       "    </tr>\n",
       "    <tr>\n",
       "      <th>3</th>\n",
       "      <td>4.6</td>\n",
       "      <td>3.1</td>\n",
       "      <td>1.5</td>\n",
       "      <td>0.2</td>\n",
       "      <td>0</td>\n",
       "    </tr>\n",
       "    <tr>\n",
       "      <th>4</th>\n",
       "      <td>5.0</td>\n",
       "      <td>3.6</td>\n",
       "      <td>1.4</td>\n",
       "      <td>0.2</td>\n",
       "      <td>0</td>\n",
       "    </tr>\n",
       "    <tr>\n",
       "      <th>...</th>\n",
       "      <td>...</td>\n",
       "      <td>...</td>\n",
       "      <td>...</td>\n",
       "      <td>...</td>\n",
       "      <td>...</td>\n",
       "    </tr>\n",
       "    <tr>\n",
       "      <th>145</th>\n",
       "      <td>6.7</td>\n",
       "      <td>3.0</td>\n",
       "      <td>5.2</td>\n",
       "      <td>2.3</td>\n",
       "      <td>2</td>\n",
       "    </tr>\n",
       "    <tr>\n",
       "      <th>146</th>\n",
       "      <td>6.3</td>\n",
       "      <td>2.5</td>\n",
       "      <td>5.0</td>\n",
       "      <td>1.9</td>\n",
       "      <td>2</td>\n",
       "    </tr>\n",
       "    <tr>\n",
       "      <th>147</th>\n",
       "      <td>6.5</td>\n",
       "      <td>3.0</td>\n",
       "      <td>5.2</td>\n",
       "      <td>2.0</td>\n",
       "      <td>2</td>\n",
       "    </tr>\n",
       "    <tr>\n",
       "      <th>148</th>\n",
       "      <td>6.2</td>\n",
       "      <td>3.4</td>\n",
       "      <td>5.4</td>\n",
       "      <td>2.3</td>\n",
       "      <td>2</td>\n",
       "    </tr>\n",
       "    <tr>\n",
       "      <th>149</th>\n",
       "      <td>5.9</td>\n",
       "      <td>3.0</td>\n",
       "      <td>5.1</td>\n",
       "      <td>1.8</td>\n",
       "      <td>2</td>\n",
       "    </tr>\n",
       "  </tbody>\n",
       "</table>\n",
       "<p>150 rows × 5 columns</p>\n",
       "</div>"
      ],
      "text/plain": [
       "     sepal length (cm)  sepal width (cm)  petal length (cm)  petal width (cm)  \\\n",
       "0                  5.1               3.5                1.4               0.2   \n",
       "1                  4.9               3.0                1.4               0.2   \n",
       "2                  4.7               3.2                1.3               0.2   \n",
       "3                  4.6               3.1                1.5               0.2   \n",
       "4                  5.0               3.6                1.4               0.2   \n",
       "..                 ...               ...                ...               ...   \n",
       "145                6.7               3.0                5.2               2.3   \n",
       "146                6.3               2.5                5.0               1.9   \n",
       "147                6.5               3.0                5.2               2.0   \n",
       "148                6.2               3.4                5.4               2.3   \n",
       "149                5.9               3.0                5.1               1.8   \n",
       "\n",
       "     target  \n",
       "0         0  \n",
       "1         0  \n",
       "2         0  \n",
       "3         0  \n",
       "4         0  \n",
       "..      ...  \n",
       "145       2  \n",
       "146       2  \n",
       "147       2  \n",
       "148       2  \n",
       "149       2  \n",
       "\n",
       "[150 rows x 5 columns]"
      ]
     },
     "execution_count": 20,
     "metadata": {},
     "output_type": "execute_result"
    }
   ],
   "source": [
    "iris_df"
   ]
  },
  {
   "cell_type": "code",
   "execution_count": 21,
   "id": "9d1ab9cc-1a9e-4c95-8446-0b7daed95b73",
   "metadata": {
    "tags": []
   },
   "outputs": [],
   "source": [
    "# test_size = 데이터를 몇% 쓸것인지. test랑 train이랑 합해서 100\n",
    "# random_state = 이거 못들음\n",
    "x_train, x_test, y_train, y_test = train_test_split(iris.data, iris.target, test_size = 0.2, \n",
    "                                                    random_state=0)  #*이 하나면 리스트형태로 전달. 그래서 어레이 여러개가 올 수 있다.\n",
    "                                                                     #**이렇게 두개면 딕셔너리형태로 전달"
   ]
  },
  {
   "cell_type": "code",
   "execution_count": 22,
   "id": "177c237d-b508-459d-a992-8cd1fd7a9abc",
   "metadata": {
    "tags": []
   },
   "outputs": [
    {
     "data": {
      "text/plain": [
       "(     sepal length (cm)  sepal width (cm)  petal length (cm)  petal width (cm)  \\\n",
       " 137                6.4               3.1                5.5               1.8   \n",
       " 84                 5.4               3.0                4.5               1.5   \n",
       " 27                 5.2               3.5                1.5               0.2   \n",
       " 127                6.1               3.0                4.9               1.8   \n",
       " 132                6.4               2.8                5.6               2.2   \n",
       " ..                 ...               ...                ...               ...   \n",
       " 9                  4.9               3.1                1.5               0.1   \n",
       " 103                6.3               2.9                5.6               1.8   \n",
       " 67                 5.8               2.7                4.1               1.0   \n",
       " 117                7.7               3.8                6.7               2.2   \n",
       " 47                 4.6               3.2                1.4               0.2   \n",
       " \n",
       "      target  \n",
       " 137       2  \n",
       " 84        1  \n",
       " 27        0  \n",
       " 127       2  \n",
       " 132       2  \n",
       " ..      ...  \n",
       " 9         0  \n",
       " 103       2  \n",
       " 67        1  \n",
       " 117       2  \n",
       " 47        0  \n",
       " \n",
       " [120 rows x 5 columns],\n",
       "      sepal length (cm)  sepal width (cm)  petal length (cm)  petal width (cm)  \\\n",
       " 114                5.8               2.8                5.1               2.4   \n",
       " 62                 6.0               2.2                4.0               1.0   \n",
       " 33                 5.5               4.2                1.4               0.2   \n",
       " 107                7.3               2.9                6.3               1.8   \n",
       " 7                  5.0               3.4                1.5               0.2   \n",
       " 100                6.3               3.3                6.0               2.5   \n",
       " 40                 5.0               3.5                1.3               0.3   \n",
       " 86                 6.7               3.1                4.7               1.5   \n",
       " 76                 6.8               2.8                4.8               1.4   \n",
       " 71                 6.1               2.8                4.0               1.3   \n",
       " 134                6.1               2.6                5.6               1.4   \n",
       " 51                 6.4               3.2                4.5               1.5   \n",
       " 73                 6.1               2.8                4.7               1.2   \n",
       " 54                 6.5               2.8                4.6               1.5   \n",
       " 63                 6.1               2.9                4.7               1.4   \n",
       " 37                 4.9               3.6                1.4               0.1   \n",
       " 78                 6.0               2.9                4.5               1.5   \n",
       " 90                 5.5               2.6                4.4               1.2   \n",
       " 45                 4.8               3.0                1.4               0.3   \n",
       " 16                 5.4               3.9                1.3               0.4   \n",
       " 121                5.6               2.8                4.9               2.0   \n",
       " 66                 5.6               3.0                4.5               1.5   \n",
       " 24                 4.8               3.4                1.9               0.2   \n",
       " 8                  4.4               2.9                1.4               0.2   \n",
       " 126                6.2               2.8                4.8               1.8   \n",
       " 22                 4.6               3.6                1.0               0.2   \n",
       " 44                 5.1               3.8                1.9               0.4   \n",
       " 97                 6.2               2.9                4.3               1.3   \n",
       " 93                 5.0               2.3                3.3               1.0   \n",
       " 26                 5.0               3.4                1.6               0.4   \n",
       " \n",
       "      target  \n",
       " 114       2  \n",
       " 62        1  \n",
       " 33        0  \n",
       " 107       2  \n",
       " 7         0  \n",
       " 100       2  \n",
       " 40        0  \n",
       " 86        1  \n",
       " 76        1  \n",
       " 71        1  \n",
       " 134       2  \n",
       " 51        1  \n",
       " 73        1  \n",
       " 54        1  \n",
       " 63        1  \n",
       " 37        0  \n",
       " 78        1  \n",
       " 90        1  \n",
       " 45        0  \n",
       " 16        0  \n",
       " 121       2  \n",
       " 66        1  \n",
       " 24        0  \n",
       " 8         0  \n",
       " 126       2  \n",
       " 22        0  \n",
       " 44        0  \n",
       " 97        1  \n",
       " 93        1  \n",
       " 26        0  ,\n",
       " 137    2\n",
       " 84     1\n",
       " 27     0\n",
       " 127    2\n",
       " 132    2\n",
       "       ..\n",
       " 9      0\n",
       " 103    2\n",
       " 67     1\n",
       " 117    2\n",
       " 47     0\n",
       " Name: target, Length: 120, dtype: int32,\n",
       " 114    2\n",
       " 62     1\n",
       " 33     0\n",
       " 107    2\n",
       " 7      0\n",
       " 100    2\n",
       " 40     0\n",
       " 86     1\n",
       " 76     1\n",
       " 71     1\n",
       " 134    2\n",
       " 51     1\n",
       " 73     1\n",
       " 54     1\n",
       " 63     1\n",
       " 37     0\n",
       " 78     1\n",
       " 90     1\n",
       " 45     0\n",
       " 16     0\n",
       " 121    2\n",
       " 66     1\n",
       " 24     0\n",
       " 8      0\n",
       " 126    2\n",
       " 22     0\n",
       " 44     0\n",
       " 97     1\n",
       " 93     1\n",
       " 26     0\n",
       " Name: target, dtype: int32)"
      ]
     },
     "execution_count": 22,
     "metadata": {},
     "output_type": "execute_result"
    }
   ],
   "source": [
    "x_train, x_test, y_train, y_test"
   ]
  },
  {
   "cell_type": "code",
   "execution_count": 23,
   "id": "677d5ef0-6e9b-4287-8f71-9d35a5fde5b2",
   "metadata": {
    "tags": []
   },
   "outputs": [
    {
     "data": {
      "text/plain": [
       "114    2\n",
       "62     1\n",
       "33     0\n",
       "107    2\n",
       "7      0\n",
       "100    2\n",
       "40     0\n",
       "86     1\n",
       "76     1\n",
       "71     1\n",
       "134    2\n",
       "51     1\n",
       "73     1\n",
       "54     1\n",
       "63     1\n",
       "37     0\n",
       "78     1\n",
       "90     1\n",
       "45     0\n",
       "16     0\n",
       "121    2\n",
       "66     1\n",
       "24     0\n",
       "8      0\n",
       "126    2\n",
       "22     0\n",
       "44     0\n",
       "97     1\n",
       "93     1\n",
       "26     0\n",
       "Name: target, dtype: int32"
      ]
     },
     "execution_count": 23,
     "metadata": {},
     "output_type": "execute_result"
    }
   ],
   "source": [
    "y_test"
   ]
  },
  {
   "cell_type": "code",
   "execution_count": 24,
   "id": "27179a60-c994-47ab-8ffa-474560a872f2",
   "metadata": {
    "tags": []
   },
   "outputs": [
    {
     "data": {
      "text/plain": [
       "pandas.core.frame.DataFrame"
      ]
     },
     "execution_count": 24,
     "metadata": {},
     "output_type": "execute_result"
    }
   ],
   "source": [
    "type(x_train)"
   ]
  },
  {
   "cell_type": "code",
   "execution_count": 25,
   "id": "5e174881-7c74-4941-94e6-a421c8aacc9f",
   "metadata": {},
   "outputs": [],
   "source": [
    "df_clf = DecisionTreeClassifier(random_state=11)"
   ]
  },
  {
   "cell_type": "code",
   "execution_count": 26,
   "id": "bc65064e-8053-41db-8c24-41d59247cfa4",
   "metadata": {},
   "outputs": [
    {
     "data": {
      "text/plain": [
       "DecisionTreeClassifier(random_state=11)"
      ]
     },
     "execution_count": 26,
     "metadata": {},
     "output_type": "execute_result"
    }
   ],
   "source": [
    "df_clf"
   ]
  },
  {
   "cell_type": "code",
   "execution_count": 27,
   "id": "fd526423-b989-4708-b6ec-0e061d989a7d",
   "metadata": {},
   "outputs": [
    {
     "data": {
      "text/plain": [
       "DecisionTreeClassifier(random_state=11)"
      ]
     },
     "execution_count": 27,
     "metadata": {},
     "output_type": "execute_result"
    }
   ],
   "source": [
    "df_clf.fit(x_train,y_train)"
   ]
  },
  {
   "cell_type": "code",
   "execution_count": 28,
   "id": "17f36612-241b-4052-adce-7f69ed7727f2",
   "metadata": {},
   "outputs": [],
   "source": [
    "# predict : 답을 안주고 예측시켜보기\n",
    "pred = df_clf.predict(x_test)"
   ]
  },
  {
   "cell_type": "code",
   "execution_count": 29,
   "id": "d44efbe2-6671-41cf-8cd8-19c1fa3f1498",
   "metadata": {},
   "outputs": [
    {
     "data": {
      "text/plain": [
       "array([2, 1, 0, 2, 0, 2, 0, 1, 1, 1, 2, 1, 1, 1, 1, 0, 1, 1, 0, 0, 2, 1,\n",
       "       0, 0, 2, 0, 0, 1, 1, 0])"
      ]
     },
     "execution_count": 29,
     "metadata": {},
     "output_type": "execute_result"
    }
   ],
   "source": [
    "pred"
   ]
  },
  {
   "cell_type": "code",
   "execution_count": 30,
   "id": "e83957e1-5ecf-42c8-acf4-ed90d8bd3387",
   "metadata": {
    "tags": []
   },
   "outputs": [
    {
     "data": {
      "text/plain": [
       "114    2\n",
       "62     1\n",
       "33     0\n",
       "107    2\n",
       "7      0\n",
       "100    2\n",
       "40     0\n",
       "86     1\n",
       "76     1\n",
       "71     1\n",
       "134    2\n",
       "51     1\n",
       "73     1\n",
       "54     1\n",
       "63     1\n",
       "37     0\n",
       "78     1\n",
       "90     1\n",
       "45     0\n",
       "16     0\n",
       "121    2\n",
       "66     1\n",
       "24     0\n",
       "8      0\n",
       "126    2\n",
       "22     0\n",
       "44     0\n",
       "97     1\n",
       "93     1\n",
       "26     0\n",
       "Name: target, dtype: int32"
      ]
     },
     "execution_count": 30,
     "metadata": {},
     "output_type": "execute_result"
    }
   ],
   "source": [
    "y_test"
   ]
  },
  {
   "cell_type": "code",
   "execution_count": 31,
   "id": "55443f80-2188-42c2-8590-a44be9621465",
   "metadata": {},
   "outputs": [],
   "source": [
    "from sklearn.metrics import accuracy_score # 평가와 관련된 것들이 들어있음. "
   ]
  },
  {
   "cell_type": "code",
   "execution_count": 32,
   "id": "33d1f15c-e843-48be-8374-32fa5e782d1c",
   "metadata": {},
   "outputs": [
    {
     "data": {
      "text/plain": [
       "1.0"
      ]
     },
     "execution_count": 32,
     "metadata": {},
     "output_type": "execute_result"
    }
   ],
   "source": [
    "accuracy_score(y_test, pred)"
   ]
  },
  {
   "cell_type": "code",
   "execution_count": 33,
   "id": "05d7ab14-e488-49a6-9c6d-436c339eedac",
   "metadata": {
    "tags": []
   },
   "outputs": [],
   "source": [
    "# random_state = 0으로 해보기\n",
    "x_train, x_test, y_train, y_test = train_test_split(iris.data, iris.target, test_size = 0.2) "
   ]
  },
  {
   "cell_type": "code",
   "execution_count": 34,
   "id": "0d3fde06-5f2f-49a7-8f75-7390f898b549",
   "metadata": {
    "tags": []
   },
   "outputs": [
    {
     "data": {
      "text/plain": [
       "(     sepal length (cm)  sepal width (cm)  petal length (cm)  petal width (cm)  \\\n",
       " 18                 5.7               3.8                1.7               0.3   \n",
       " 26                 5.0               3.4                1.6               0.4   \n",
       " 56                 6.3               3.3                4.7               1.6   \n",
       " 25                 5.0               3.0                1.6               0.2   \n",
       " 52                 6.9               3.1                4.9               1.5   \n",
       " ..                 ...               ...                ...               ...   \n",
       " 123                6.3               2.7                4.9               1.8   \n",
       " 128                6.4               2.8                5.6               2.1   \n",
       " 85                 6.0               3.4                4.5               1.6   \n",
       " 50                 7.0               3.2                4.7               1.4   \n",
       " 76                 6.8               2.8                4.8               1.4   \n",
       " \n",
       "      target  \n",
       " 18        0  \n",
       " 26        0  \n",
       " 56        1  \n",
       " 25        0  \n",
       " 52        1  \n",
       " ..      ...  \n",
       " 123       2  \n",
       " 128       2  \n",
       " 85        1  \n",
       " 50        1  \n",
       " 76        1  \n",
       " \n",
       " [120 rows x 5 columns],\n",
       "      sepal length (cm)  sepal width (cm)  petal length (cm)  petal width (cm)  \\\n",
       " 23                 5.1               3.3                1.7               0.5   \n",
       " 48                 5.3               3.7                1.5               0.2   \n",
       " 0                  5.1               3.5                1.4               0.2   \n",
       " 36                 5.5               3.5                1.3               0.2   \n",
       " 124                6.7               3.3                5.7               2.1   \n",
       " 9                  4.9               3.1                1.5               0.1   \n",
       " 99                 5.7               2.8                4.1               1.3   \n",
       " 3                  4.6               3.1                1.5               0.2   \n",
       " 38                 4.4               3.0                1.3               0.2   \n",
       " 28                 5.2               3.4                1.4               0.2   \n",
       " 98                 5.1               2.5                3.0               1.1   \n",
       " 132                6.4               2.8                5.6               2.2   \n",
       " 65                 6.7               3.1                4.4               1.4   \n",
       " 79                 5.7               2.6                3.5               1.0   \n",
       " 43                 5.0               3.5                1.6               0.6   \n",
       " 41                 4.5               2.3                1.3               0.3   \n",
       " 27                 5.2               3.5                1.5               0.2   \n",
       " 139                6.9               3.1                5.4               2.1   \n",
       " 107                7.3               2.9                6.3               1.8   \n",
       " 114                5.8               2.8                5.1               2.4   \n",
       " 6                  4.6               3.4                1.4               0.3   \n",
       " 78                 6.0               2.9                4.5               1.5   \n",
       " 102                7.1               3.0                5.9               2.1   \n",
       " 29                 4.7               3.2                1.6               0.2   \n",
       " 116                6.5               3.0                5.5               1.8   \n",
       " 80                 5.5               2.4                3.8               1.1   \n",
       " 72                 6.3               2.5                4.9               1.5   \n",
       " 54                 6.5               2.8                4.6               1.5   \n",
       " 70                 5.9               3.2                4.8               1.8   \n",
       " 58                 6.6               2.9                4.6               1.3   \n",
       " \n",
       "      target  \n",
       " 23        0  \n",
       " 48        0  \n",
       " 0         0  \n",
       " 36        0  \n",
       " 124       2  \n",
       " 9         0  \n",
       " 99        1  \n",
       " 3         0  \n",
       " 38        0  \n",
       " 28        0  \n",
       " 98        1  \n",
       " 132       2  \n",
       " 65        1  \n",
       " 79        1  \n",
       " 43        0  \n",
       " 41        0  \n",
       " 27        0  \n",
       " 139       2  \n",
       " 107       2  \n",
       " 114       2  \n",
       " 6         0  \n",
       " 78        1  \n",
       " 102       2  \n",
       " 29        0  \n",
       " 116       2  \n",
       " 80        1  \n",
       " 72        1  \n",
       " 54        1  \n",
       " 70        1  \n",
       " 58        1  ,\n",
       " 18     0\n",
       " 26     0\n",
       " 56     1\n",
       " 25     0\n",
       " 52     1\n",
       "       ..\n",
       " 123    2\n",
       " 128    2\n",
       " 85     1\n",
       " 50     1\n",
       " 76     1\n",
       " Name: target, Length: 120, dtype: int32,\n",
       " 23     0\n",
       " 48     0\n",
       " 0      0\n",
       " 36     0\n",
       " 124    2\n",
       " 9      0\n",
       " 99     1\n",
       " 3      0\n",
       " 38     0\n",
       " 28     0\n",
       " 98     1\n",
       " 132    2\n",
       " 65     1\n",
       " 79     1\n",
       " 43     0\n",
       " 41     0\n",
       " 27     0\n",
       " 139    2\n",
       " 107    2\n",
       " 114    2\n",
       " 6      0\n",
       " 78     1\n",
       " 102    2\n",
       " 29     0\n",
       " 116    2\n",
       " 80     1\n",
       " 72     1\n",
       " 54     1\n",
       " 70     1\n",
       " 58     1\n",
       " Name: target, dtype: int32)"
      ]
     },
     "execution_count": 34,
     "metadata": {},
     "output_type": "execute_result"
    }
   ],
   "source": [
    "x_train, x_test, y_train, y_test"
   ]
  },
  {
   "cell_type": "code",
   "execution_count": 35,
   "id": "5ce24910-0a40-45f4-89be-ed047bfe3a35",
   "metadata": {
    "tags": []
   },
   "outputs": [
    {
     "data": {
      "text/plain": [
       "23     0\n",
       "48     0\n",
       "0      0\n",
       "36     0\n",
       "124    2\n",
       "9      0\n",
       "99     1\n",
       "3      0\n",
       "38     0\n",
       "28     0\n",
       "98     1\n",
       "132    2\n",
       "65     1\n",
       "79     1\n",
       "43     0\n",
       "41     0\n",
       "27     0\n",
       "139    2\n",
       "107    2\n",
       "114    2\n",
       "6      0\n",
       "78     1\n",
       "102    2\n",
       "29     0\n",
       "116    2\n",
       "80     1\n",
       "72     1\n",
       "54     1\n",
       "70     1\n",
       "58     1\n",
       "Name: target, dtype: int32"
      ]
     },
     "execution_count": 35,
     "metadata": {},
     "output_type": "execute_result"
    }
   ],
   "source": [
    "y_test"
   ]
  },
  {
   "cell_type": "code",
   "execution_count": 36,
   "id": "12272b44-6023-4247-ac7e-36c992b57ac7",
   "metadata": {
    "tags": []
   },
   "outputs": [
    {
     "data": {
      "text/plain": [
       "pandas.core.frame.DataFrame"
      ]
     },
     "execution_count": 36,
     "metadata": {},
     "output_type": "execute_result"
    }
   ],
   "source": [
    "type(x_train)"
   ]
  },
  {
   "cell_type": "code",
   "execution_count": 37,
   "id": "54f44fb2-2cba-4495-b42d-e3db413666a9",
   "metadata": {},
   "outputs": [],
   "source": [
    "df_clf = DecisionTreeClassifier(random_state=0)"
   ]
  },
  {
   "cell_type": "code",
   "execution_count": 38,
   "id": "0aceb52e-869d-4dc2-aeda-c921621cf45d",
   "metadata": {},
   "outputs": [
    {
     "data": {
      "text/plain": [
       "DecisionTreeClassifier(random_state=0)"
      ]
     },
     "execution_count": 38,
     "metadata": {},
     "output_type": "execute_result"
    }
   ],
   "source": [
    "df_clf"
   ]
  },
  {
   "cell_type": "code",
   "execution_count": 39,
   "id": "c1f6375d-441d-408b-879b-07413d825454",
   "metadata": {},
   "outputs": [
    {
     "data": {
      "text/plain": [
       "DecisionTreeClassifier(random_state=0)"
      ]
     },
     "execution_count": 39,
     "metadata": {},
     "output_type": "execute_result"
    }
   ],
   "source": [
    "df_clf.fit(x_train,y_train)"
   ]
  },
  {
   "cell_type": "code",
   "execution_count": 40,
   "id": "b8389555-22ab-4954-b8d2-ed6e1e16670c",
   "metadata": {},
   "outputs": [],
   "source": [
    "# predict : 답을 안주고 예측시켜보기\n",
    "pred = df_clf.predict(x_test)"
   ]
  },
  {
   "cell_type": "code",
   "execution_count": 41,
   "id": "7a325fda-96d5-4a6d-9c44-5868982c9812",
   "metadata": {},
   "outputs": [
    {
     "data": {
      "text/plain": [
       "array([0, 0, 0, 0, 2, 0, 1, 0, 0, 0, 1, 2, 1, 1, 0, 0, 0, 2, 2, 2, 0, 1,\n",
       "       2, 0, 2, 1, 1, 1, 1, 1])"
      ]
     },
     "execution_count": 41,
     "metadata": {},
     "output_type": "execute_result"
    }
   ],
   "source": [
    "pred"
   ]
  },
  {
   "cell_type": "code",
   "execution_count": 42,
   "id": "d1b4336b-2608-4fe5-a704-f411b3d1122c",
   "metadata": {
    "tags": []
   },
   "outputs": [
    {
     "data": {
      "text/plain": [
       "23     0\n",
       "48     0\n",
       "0      0\n",
       "36     0\n",
       "124    2\n",
       "9      0\n",
       "99     1\n",
       "3      0\n",
       "38     0\n",
       "28     0\n",
       "98     1\n",
       "132    2\n",
       "65     1\n",
       "79     1\n",
       "43     0\n",
       "41     0\n",
       "27     0\n",
       "139    2\n",
       "107    2\n",
       "114    2\n",
       "6      0\n",
       "78     1\n",
       "102    2\n",
       "29     0\n",
       "116    2\n",
       "80     1\n",
       "72     1\n",
       "54     1\n",
       "70     1\n",
       "58     1\n",
       "Name: target, dtype: int32"
      ]
     },
     "execution_count": 42,
     "metadata": {},
     "output_type": "execute_result"
    }
   ],
   "source": [
    "y_test"
   ]
  },
  {
   "cell_type": "code",
   "execution_count": 43,
   "id": "07de80ee-ec87-42d9-9317-f1cd3572e608",
   "metadata": {},
   "outputs": [],
   "source": [
    "from sklearn.metrics import accuracy_score # 평가와 관련된 것들이 들어있음. "
   ]
  },
  {
   "cell_type": "code",
   "execution_count": 44,
   "id": "66272b23-f590-4921-9ec7-fd98b614a7fe",
   "metadata": {},
   "outputs": [
    {
     "data": {
      "text/plain": [
       "1.0"
      ]
     },
     "execution_count": 44,
     "metadata": {},
     "output_type": "execute_result"
    }
   ],
   "source": [
    "accuracy_score(y_test, pred)"
   ]
  },
  {
   "cell_type": "code",
   "execution_count": 45,
   "id": "4e4b0152-3951-43cf-bf75-ee089f64af89",
   "metadata": {
    "jupyter": {
     "source_hidden": true
    },
    "tags": []
   },
   "outputs": [],
   "source": [
    "def test1(a,b):\n",
    "    '''\n",
    "    이 함수는 결과값이 3개로 나갑니다\n",
    "    '''\n",
    "    return a+b, a-b, a*b"
   ]
  },
  {
   "cell_type": "code",
   "execution_count": 46,
   "id": "fbb8eec5-947a-4171-9d16-d53648987dd9",
   "metadata": {
    "tags": []
   },
   "outputs": [
    {
     "ename": "TypeError",
     "evalue": "test1() missing 2 required positional arguments: 'a' and 'b'",
     "output_type": "error",
     "traceback": [
      "\u001b[1;31m---------------------------------------------------------------------------\u001b[0m",
      "\u001b[1;31mTypeError\u001b[0m                                 Traceback (most recent call last)",
      "\u001b[1;32m<ipython-input-46-5d01c805ddc3>\u001b[0m in \u001b[0;36m<module>\u001b[1;34m\u001b[0m\n\u001b[1;32m----> 1\u001b[1;33m \u001b[0mtest1\u001b[0m\u001b[1;33m(\u001b[0m\u001b[1;33m)\u001b[0m  \u001b[1;31m# -> shift+tab 하면 위 주석이 나옴\u001b[0m\u001b[1;33m\u001b[0m\u001b[1;33m\u001b[0m\u001b[0m\n\u001b[0m",
      "\u001b[1;31mTypeError\u001b[0m: test1() missing 2 required positional arguments: 'a' and 'b'"
     ]
    }
   ],
   "source": [
    "test1()  # -> shift+tab 하면 위 주석이 나옴"
   ]
  },
  {
   "cell_type": "markdown",
   "id": "97da570b-c982-4b52-9457-c8a17de27e88",
   "metadata": {},
   "source": [
    "# 과적합 참조\n",
    "![과적합](다운로드.png)"
   ]
  },
  {
   "cell_type": "markdown",
   "id": "189a2937-2824-4541-8fbb-1b413b0849c2",
   "metadata": {},
   "source": [
    "```\n",
    "print('hello')\n",
    "```"
   ]
  },
  {
   "cell_type": "code",
   "execution_count": 47,
   "id": "e4da0f70-2df9-4aa3-99fb-0f2b747dc1ff",
   "metadata": {},
   "outputs": [],
   "source": [
    "from sklearn.tree import DecisionTreeClassifier\n",
    "from sklearn.metrics import accuracy_score\n",
    "from sklearn.model_selection import KFold\n",
    "import numpy as np"
   ]
  },
  {
   "cell_type": "code",
   "execution_count": 48,
   "id": "a7a52aeb-93aa-4657-a6f7-0861d11b3daf",
   "metadata": {},
   "outputs": [],
   "source": [
    "iris = load_iris()\n",
    "dt_clf = DecisionTreeClassifier(random_state=156)"
   ]
  },
  {
   "cell_type": "code",
   "execution_count": 49,
   "id": "639792c5-48e4-44c5-8ad1-e52ce8106398",
   "metadata": {},
   "outputs": [],
   "source": [
    "kfold = KFold(n_splits = 5)  # 명령모드에서 shift+m하면 아래 탭과 합쳐짐, 분리는 명령모드 없이 ctrl+shift+(-)"
   ]
  },
  {
   "cell_type": "code",
   "execution_count": 50,
   "id": "62551273-9ed3-48c2-b28a-da7f5d2e1950",
   "metadata": {},
   "outputs": [],
   "source": [
    "cv_accuracy=[]"
   ]
  },
  {
   "cell_type": "code",
   "execution_count": 51,
   "id": "48082ef2-d4f8-4485-adf6-0ccd808e760a",
   "metadata": {},
   "outputs": [
    {
     "data": {
      "text/plain": [
       "(150, 4)"
      ]
     },
     "execution_count": 51,
     "metadata": {},
     "output_type": "execute_result"
    }
   ],
   "source": [
    "iris.data.shape"
   ]
  },
  {
   "cell_type": "code",
   "execution_count": 52,
   "id": "5946094f-50c7-478c-910e-bde13b75b251",
   "metadata": {
    "tags": []
   },
   "outputs": [
    {
     "name": "stdout",
     "output_type": "stream",
     "text": [
      "1번째 교차검증\n",
      "학습데이터 건수 : 120, 검증데이터 건수:30\n",
      "정확도:1.0\n",
      "2번째 교차검증\n",
      "학습데이터 건수 : 120, 검증데이터 건수:30\n",
      "정확도:0.9666666666666667\n",
      "3번째 교차검증\n",
      "학습데이터 건수 : 120, 검증데이터 건수:30\n",
      "정확도:0.8666666666666667\n",
      "4번째 교차검증\n",
      "학습데이터 건수 : 120, 검증데이터 건수:30\n",
      "정확도:0.9333333333333333\n",
      "5번째 교차검증\n",
      "학습데이터 건수 : 120, 검증데이터 건수:30\n",
      "정확도:0.7333333333333333\n",
      "0.9\n"
     ]
    }
   ],
   "source": [
    "n_iter = 0\n",
    "for train_index, test_index in kfold.split(iris.data):    # .split 이 인덱스 값을 뽑아줌\n",
    "#     print(train_index)\n",
    "#     print(\"-\"*50)\n",
    "#     print(test_index)\n",
    "#     print()\n",
    "    x_train,x_test = iris.data[train_index],iris.data[test_index]\n",
    "#    print(x_train, x_test)\n",
    "    y_train, y_test = iris.target[train_index], iris.target[test_index]\n",
    "    dt_clf.fit(x_train, y_train)\n",
    "    pred = dt_clf.predict(x_test)\n",
    "    accuracy = accuracy_score(y_test,pred)   # 정확도\n",
    "    cv_accuracy.append(accuracy)\n",
    "    n_iter += 1\n",
    "    print(f'{n_iter}번째 교차검증')\n",
    "    print(f'학습데이터 건수 : {x_train.shape[0]}, 검증데이터 건수:{x_test.shape[0]}')\n",
    "    print(f'정확도:{accuracy}')\n",
    "print(np.mean(cv_accuracy))"
   ]
  },
  {
   "cell_type": "code",
   "execution_count": 53,
   "id": "1703bd6c-3ee9-48ac-8b0c-250de781c2d5",
   "metadata": {},
   "outputs": [],
   "source": [
    "kfold = KFold(n_splits = 5, shuffle=True)"
   ]
  },
  {
   "cell_type": "code",
   "execution_count": 54,
   "id": "a7f48ba9-0115-4ddc-8c7f-9b5894e4e2f2",
   "metadata": {},
   "outputs": [],
   "source": [
    "cv_accuracy=[]"
   ]
  },
  {
   "cell_type": "code",
   "execution_count": 55,
   "id": "cd7e8d0e-aeeb-4462-82a9-1c2a1361fee4",
   "metadata": {},
   "outputs": [
    {
     "data": {
      "text/plain": [
       "(150, 4)"
      ]
     },
     "execution_count": 55,
     "metadata": {},
     "output_type": "execute_result"
    }
   ],
   "source": [
    "iris.data.shape"
   ]
  },
  {
   "cell_type": "code",
   "execution_count": 56,
   "id": "d88da417-18ea-49b7-a82b-d493e751521e",
   "metadata": {
    "tags": []
   },
   "outputs": [
    {
     "name": "stdout",
     "output_type": "stream",
     "text": [
      "1번째 교차검증\n",
      "학습데이터 건수 : 120, 검증데이터 건수:30\n",
      "정확도:1.0\n",
      "2번째 교차검증\n",
      "학습데이터 건수 : 120, 검증데이터 건수:30\n",
      "정확도:0.9666666666666667\n",
      "3번째 교차검증\n",
      "학습데이터 건수 : 120, 검증데이터 건수:30\n",
      "정확도:0.9333333333333333\n",
      "4번째 교차검증\n",
      "학습데이터 건수 : 120, 검증데이터 건수:30\n",
      "정확도:0.9666666666666667\n",
      "5번째 교차검증\n",
      "학습데이터 건수 : 120, 검증데이터 건수:30\n",
      "정확도:0.9333333333333333\n",
      "0.9600000000000002\n"
     ]
    }
   ],
   "source": [
    "n_iter = 0\n",
    "for train_index, test_index in kfold.split(iris.data):    # .split 이 인덱스 값을 뽑아줌\n",
    "#     print(train_index)\n",
    "#     print(\"-\"*50)\n",
    "#     print(test_index)\n",
    "#     print()\n",
    "    x_train,x_test = iris.data[train_index],iris.data[test_index]\n",
    "#    print(x_train, x_test)\n",
    "    y_train, y_test = iris.target[train_index], iris.target[test_index]\n",
    "    dt_clf.fit(x_train, y_train)\n",
    "    pred = dt_clf.predict(x_test)\n",
    "    accuracy = accuracy_score(y_test,pred)   # 정확도\n",
    "    cv_accuracy.append(accuracy)\n",
    "    n_iter += 1\n",
    "    print(f'{n_iter}번째 교차검증')\n",
    "    print(f'학습데이터 건수 : {x_train.shape[0]}, 검증데이터 건수:{x_test.shape[0]}')\n",
    "    print(f'정확도:{accuracy}')\n",
    "print(np.mean(cv_accuracy))"
   ]
  },
  {
   "cell_type": "code",
   "execution_count": 57,
   "id": "3d4eee69-3bf4-4439-bc26-3418a3919229",
   "metadata": {},
   "outputs": [
    {
     "name": "stdout",
     "output_type": "stream",
     "text": [
      "학습용데이터 분포:\n",
      " 2    44\n",
      "0    39\n",
      "1    37\n",
      "dtype: int64\n",
      "검증용데이터 분포:\n",
      " 1    13\n",
      "0    11\n",
      "2     6\n",
      "dtype: int64\n",
      "학습용데이터 분포:\n",
      " 1    43\n",
      "0    39\n",
      "2    38\n",
      "dtype: int64\n",
      "검증용데이터 분포:\n",
      " 2    12\n",
      "0    11\n",
      "1     7\n",
      "dtype: int64\n",
      "학습용데이터 분포:\n",
      " 0    43\n",
      "1    40\n",
      "2    37\n",
      "dtype: int64\n",
      "검증용데이터 분포:\n",
      " 2    13\n",
      "1    10\n",
      "0     7\n",
      "dtype: int64\n",
      "학습용데이터 분포:\n",
      " 1    41\n",
      "2    40\n",
      "0    39\n",
      "dtype: int64\n",
      "검증용데이터 분포:\n",
      " 0    11\n",
      "2    10\n",
      "1     9\n",
      "dtype: int64\n",
      "학습용데이터 분포:\n",
      " 2    41\n",
      "0    40\n",
      "1    39\n",
      "dtype: int64\n",
      "검증용데이터 분포:\n",
      " 1    11\n",
      "0    10\n",
      "2     9\n",
      "dtype: int64\n"
     ]
    }
   ],
   "source": [
    "kfold = KFold(n_splits = 5, shuffle=True)\n",
    "\n",
    "n_iter = 0\n",
    "for train_index, test_index in kfold.split(iris.data):\n",
    "    x_train,x_test = iris.data[train_index],iris.data[test_index]\n",
    "    y_train, y_test = iris.target[train_index], iris.target[test_index]\n",
    "    \n",
    "    print('학습용데이터 분포:\\n', pd.Series(y_train).value_counts())\n",
    "    print('검증용데이터 분포:\\n', pd.Series(y_test).value_counts())"
   ]
  },
  {
   "cell_type": "code",
   "execution_count": 58,
   "id": "545b66e5-5c0f-42f5-a348-81981574a150",
   "metadata": {},
   "outputs": [],
   "source": [
    "from sklearn.model_selection import StratifiedKFold"
   ]
  },
  {
   "cell_type": "code",
   "execution_count": 59,
   "id": "17e80c65-ab77-46ca-8bbf-5c9ac99c71b6",
   "metadata": {
    "tags": []
   },
   "outputs": [
    {
     "name": "stdout",
     "output_type": "stream",
     "text": [
      "학습용데이터 분포:\n",
      " 1    50\n",
      "2    50\n",
      "0    20\n",
      "dtype: int64\n",
      "검증용데이터 분포:\n",
      " 0    30\n",
      "dtype: int64\n",
      "학습용데이터 분포:\n",
      " 2    50\n",
      "1    40\n",
      "0    30\n",
      "dtype: int64\n",
      "검증용데이터 분포:\n",
      " 0    20\n",
      "1    10\n",
      "dtype: int64\n",
      "학습용데이터 분포:\n",
      " 0    50\n",
      "2    50\n",
      "1    20\n",
      "dtype: int64\n",
      "검증용데이터 분포:\n",
      " 1    30\n",
      "dtype: int64\n",
      "학습용데이터 분포:\n",
      " 0    50\n",
      "1    40\n",
      "2    30\n",
      "dtype: int64\n",
      "검증용데이터 분포:\n",
      " 2    20\n",
      "1    10\n",
      "dtype: int64\n",
      "학습용데이터 분포:\n",
      " 0    50\n",
      "1    50\n",
      "2    20\n",
      "dtype: int64\n",
      "검증용데이터 분포:\n",
      " 2    30\n",
      "dtype: int64\n"
     ]
    }
   ],
   "source": [
    "kfold = KFold(n_splits = 5, shuffle=False)  # 셔플을 안하게 했는데도 \n",
    "\n",
    "n_iter = 0\n",
    "for train_index, test_index in kfold.split(iris.data, iris.target):    # iris.target을 추가함으로써 알아서 비율을 맞췄다\n",
    "    x_train,x_test = iris.data[train_index],iris.data[test_index]\n",
    "    y_train, y_test = iris.target[train_index], iris.target[test_index]\n",
    "    \n",
    "    print('학습용데이터 분포:\\n', pd.Series(y_train).value_counts())\n",
    "    print('검증용데이터 분포:\\n', pd.Series(y_test).value_counts())"
   ]
  },
  {
   "cell_type": "code",
   "execution_count": 60,
   "id": "00feb0ae-3813-47f7-b592-0ba3317f3208",
   "metadata": {},
   "outputs": [
    {
     "name": "stdout",
     "output_type": "stream",
     "text": [
      "학습용데이터 분포:\n",
      " 1    42\n",
      "0    39\n",
      "2    39\n",
      "dtype: int64\n",
      "검증용데이터 분포:\n",
      " 0    11\n",
      "2    11\n",
      "1     8\n",
      "dtype: int64\n",
      "학습용데이터 분포:\n",
      " 1    43\n",
      "0    39\n",
      "2    38\n",
      "dtype: int64\n",
      "검증용데이터 분포:\n",
      " 2    12\n",
      "0    11\n",
      "1     7\n",
      "dtype: int64\n",
      "학습용데이터 분포:\n",
      " 0    43\n",
      "1    40\n",
      "2    37\n",
      "dtype: int64\n",
      "검증용데이터 분포:\n",
      " 2    13\n",
      "1    10\n",
      "0     7\n",
      "dtype: int64\n",
      "학습용데이터 분포:\n",
      " 2    45\n",
      "0    38\n",
      "1    37\n",
      "dtype: int64\n",
      "검증용데이터 분포:\n",
      " 1    13\n",
      "0    12\n",
      "2     5\n",
      "dtype: int64\n",
      "학습용데이터 분포:\n",
      " 0    41\n",
      "2    41\n",
      "1    38\n",
      "dtype: int64\n",
      "검증용데이터 분포:\n",
      " 1    12\n",
      "0     9\n",
      "2     9\n",
      "dtype: int64\n"
     ]
    }
   ],
   "source": [
    "skfold = KFold(n_splits = 5, shuffle=True)\n",
    "\n",
    "n_iter = 0\n",
    "for train_index, test_index in skfold.split(iris.data, iris.target):\n",
    "    x_train,x_test = iris.data[train_index],iris.data[test_index]\n",
    "    y_train, y_test = iris.target[train_index], iris.target[test_index]\n",
    "    \n",
    "    print('학습용데이터 분포:\\n', pd.Series(y_train).value_counts())\n",
    "    print('검증용데이터 분포:\\n', pd.Series(y_test).value_counts())"
   ]
  },
  {
   "cell_type": "code",
   "execution_count": 61,
   "id": "3bce392c-b0b3-4261-baa0-2bf5fdb04246",
   "metadata": {},
   "outputs": [
    {
     "name": "stdout",
     "output_type": "stream",
     "text": [
      "1번째 교차검증\n",
      "학습데이터 건수 : 120, 검증데이터 건수:30\n",
      "정확도:0.9333333333333333\n",
      "2번째 교차검증\n",
      "학습데이터 건수 : 120, 검증데이터 건수:30\n",
      "정확도:0.9666666666666667\n",
      "3번째 교차검증\n",
      "학습데이터 건수 : 120, 검증데이터 건수:30\n",
      "정확도:0.9666666666666667\n",
      "4번째 교차검증\n",
      "학습데이터 건수 : 120, 검증데이터 건수:30\n",
      "정확도:0.8666666666666667\n",
      "5번째 교차검증\n",
      "학습데이터 건수 : 120, 검증데이터 건수:30\n",
      "정확도:0.9333333333333333\n",
      "0.9333333333333333\n"
     ]
    }
   ],
   "source": [
    "skfold = StratifiedKFold(n_splits = 5, shuffle=True)\n",
    "cv_accuracy = []\n",
    "n_iter = 0\n",
    "for train_index, test_index in skfold.split(iris.data, iris.target):    # .split 이 인덱스 값을 뽑아줌\n",
    "#     print(train_index)\n",
    "#     print(\"-\"*50)\n",
    "#     print(test_index)\n",
    "#     print()\n",
    "    x_train,x_test = iris.data[train_index],iris.data[test_index]\n",
    "#    print(x_train, x_test)\n",
    "    y_train, y_test = iris.target[train_index], iris.target[test_index]\n",
    "    dt_clf.fit(x_train, y_train)\n",
    "    pred = dt_clf.predict(x_test)\n",
    "    accuracy = accuracy_score(y_test,pred)   # 정확도\n",
    "    cv_accuracy.append(accuracy)\n",
    "    n_iter += 1\n",
    "    print(f'{n_iter}번째 교차검증')\n",
    "    print(f'학습데이터 건수 : {x_train.shape[0]}, 검증데이터 건수:{x_test.shape[0]}')\n",
    "    print(f'정확도:{accuracy}')\n",
    "print(np.mean(cv_accuracy))"
   ]
  },
  {
   "cell_type": "markdown",
   "id": "1fb9df7b-6fa8-45e1-9979-d05758ebf33c",
   "metadata": {},
   "source": [
    "##### 머신러닝 모델 만들어서 데이터를 나눠넣어 학습, 검증해봄"
   ]
  },
  {
   "cell_type": "code",
   "execution_count": 62,
   "id": "ed349d8a-6631-497f-85aa-c40624dcfcce",
   "metadata": {},
   "outputs": [],
   "source": [
    "from sklearn.tree import DecisionTreeClassifier\n",
    "from sklearn.model_selection import cross_val_score\n",
    "from sklearn.datasets import load_iris"
   ]
  },
  {
   "cell_type": "code",
   "execution_count": 63,
   "id": "43dff9c4-f34c-4aed-9574-ccb996e413d4",
   "metadata": {},
   "outputs": [],
   "source": [
    "iris_data = load_iris()\n",
    "dt_clf = DecisionTreeClassifier(random_state = 156)"
   ]
  },
  {
   "cell_type": "code",
   "execution_count": 66,
   "id": "cb179203-5c7c-4654-9db5-b85e2b43b0b9",
   "metadata": {},
   "outputs": [
    {
     "name": "stdout",
     "output_type": "stream",
     "text": [
      "교차검증별 정확도 [0.98 0.94 0.98]\n",
      "평균 교차검증 정확도 0.9666666666666667\n"
     ]
    }
   ],
   "source": [
    "# 교차검증\n",
    "scores = cross_val_score(dt_clf, \n",
    "                        iris_data.data, \n",
    "                        iris_data.target, \n",
    "                        scoring = \"accuracy\", \n",
    "                        cv=3)\n",
    "print(\"교차검증별 정확도\", scores)\n",
    "print(\"평균 교차검증 정확도\", np.mean(scores))"
   ]
  },
  {
   "cell_type": "code",
   "execution_count": 68,
   "id": "7e38323a-37b0-4f92-8fd7-47d967d1aecc",
   "metadata": {},
   "outputs": [],
   "source": [
    "from sklearn.model_selection import GridSearchCV"
   ]
  },
  {
   "cell_type": "code",
   "execution_count": 69,
   "id": "8ecbccad-9cc2-4fde-91f9-dc55c2c250ce",
   "metadata": {},
   "outputs": [],
   "source": [
    "grid_param = {\"max_depth\":[1,2,3],\n",
    "              \"min_samples_split\":[2,3]}"
   ]
  },
  {
   "cell_type": "code",
   "execution_count": 74,
   "id": "4338c895-93c1-4096-8733-ae9fed79b3bb",
   "metadata": {},
   "outputs": [
    {
     "data": {
      "text/plain": [
       "GridSearchCV(cv=3, estimator=DecisionTreeClassifier(),\n",
       "             param_grid={'max_depth': [1, 2, 3], 'min_samples_split': [2, 3]})"
      ]
     },
     "execution_count": 74,
     "metadata": {},
     "output_type": "execute_result"
    }
   ],
   "source": [
    "iris = load_iris()\n",
    "x_train ,x_test, y_train, y_test = train_test_split(iris.data, iris.target, test_size=0.2, random_state=121)\n",
    "dtree = DecisionTreeClassifier()\n",
    "grid_dtree = GridSearchCV(dtree, param_grid=grid_param, cv=3, refit=True)\n",
    "grid_dtree.fit(x_train,y_train)"
   ]
  },
  {
   "cell_type": "code",
   "execution_count": 75,
   "id": "d4cffc66-50fa-480c-b4a6-9d05c3bf82ca",
   "metadata": {},
   "outputs": [
    {
     "data": {
      "text/plain": [
       "{'mean_fit_time': array([0.00133061, 0.00066551, 0.0006636 , 0.00066543, 0.00066487,\n",
       "        0.00133053]),\n",
       " 'std_fit_time': array([0.00046952, 0.00047058, 0.00046924, 0.00047053, 0.00047013,\n",
       "        0.00046959]),\n",
       " 'mean_score_time': array([0.00099659, 0.00033267, 0.00066551, 0.00033259, 0.00099858,\n",
       "        0.00066296]),\n",
       " 'std_score_time': array([3.23992047e-06, 4.70471221e-04, 4.70585062e-04, 4.70358829e-04,\n",
       "        1.99791671e-06, 4.68787328e-04]),\n",
       " 'param_max_depth': masked_array(data=[1, 1, 2, 2, 3, 3],\n",
       "              mask=[False, False, False, False, False, False],\n",
       "        fill_value='?',\n",
       "             dtype=object),\n",
       " 'param_min_samples_split': masked_array(data=[2, 3, 2, 3, 2, 3],\n",
       "              mask=[False, False, False, False, False, False],\n",
       "        fill_value='?',\n",
       "             dtype=object),\n",
       " 'params': [{'max_depth': 1, 'min_samples_split': 2},\n",
       "  {'max_depth': 1, 'min_samples_split': 3},\n",
       "  {'max_depth': 2, 'min_samples_split': 2},\n",
       "  {'max_depth': 2, 'min_samples_split': 3},\n",
       "  {'max_depth': 3, 'min_samples_split': 2},\n",
       "  {'max_depth': 3, 'min_samples_split': 3}],\n",
       " 'split0_test_score': array([0.7  , 0.7  , 0.925, 0.925, 0.975, 0.975]),\n",
       " 'split1_test_score': array([0.7, 0.7, 1. , 1. , 1. , 1. ]),\n",
       " 'split2_test_score': array([0.7 , 0.7 , 0.95, 0.95, 0.95, 0.95]),\n",
       " 'mean_test_score': array([0.7       , 0.7       , 0.95833333, 0.95833333, 0.975     ,\n",
       "        0.975     ]),\n",
       " 'std_test_score': array([1.11022302e-16, 1.11022302e-16, 3.11804782e-02, 3.11804782e-02,\n",
       "        2.04124145e-02, 2.04124145e-02]),\n",
       " 'rank_test_score': array([5, 5, 3, 3, 1, 1])}"
      ]
     },
     "execution_count": 75,
     "metadata": {},
     "output_type": "execute_result"
    }
   ],
   "source": [
    "grid_dtree.cv_results_"
   ]
  },
  {
   "cell_type": "code",
   "execution_count": 76,
   "id": "0fcbb5a7-b414-4af3-ab32-949a18a5b71e",
   "metadata": {},
   "outputs": [],
   "source": [
    "scores_df = pd.DataFrame(grid_dtree.cv_results_)"
   ]
  },
  {
   "cell_type": "code",
   "execution_count": 78,
   "id": "baffa690-7f93-4692-95b2-53434792d2b7",
   "metadata": {},
   "outputs": [
    {
     "data": {
      "text/plain": [
       "Index(['mean_fit_time', 'std_fit_time', 'mean_score_time', 'std_score_time',\n",
       "       'param_max_depth', 'param_min_samples_split', 'params',\n",
       "       'split0_test_score', 'split1_test_score', 'split2_test_score',\n",
       "       'mean_test_score', 'std_test_score', 'rank_test_score'],\n",
       "      dtype='object')"
      ]
     },
     "execution_count": 78,
     "metadata": {},
     "output_type": "execute_result"
    }
   ],
   "source": [
    "scores_df.columns"
   ]
  },
  {
   "cell_type": "code",
   "execution_count": 80,
   "id": "78a700d5-e49c-4810-b885-0f9052060872",
   "metadata": {},
   "outputs": [
    {
     "data": {
      "text/html": [
       "<div>\n",
       "<style scoped>\n",
       "    .dataframe tbody tr th:only-of-type {\n",
       "        vertical-align: middle;\n",
       "    }\n",
       "\n",
       "    .dataframe tbody tr th {\n",
       "        vertical-align: top;\n",
       "    }\n",
       "\n",
       "    .dataframe thead th {\n",
       "        text-align: right;\n",
       "    }\n",
       "</style>\n",
       "<table border=\"1\" class=\"dataframe\">\n",
       "  <thead>\n",
       "    <tr style=\"text-align: right;\">\n",
       "      <th></th>\n",
       "      <th>params</th>\n",
       "      <th>mean_test_score</th>\n",
       "      <th>rank_test_score</th>\n",
       "      <th>split0_test_score</th>\n",
       "      <th>split1_test_score</th>\n",
       "      <th>split2_test_score</th>\n",
       "    </tr>\n",
       "  </thead>\n",
       "  <tbody>\n",
       "    <tr>\n",
       "      <th>0</th>\n",
       "      <td>{'max_depth': 1, 'min_samples_split': 2}</td>\n",
       "      <td>0.700000</td>\n",
       "      <td>5</td>\n",
       "      <td>0.700</td>\n",
       "      <td>0.7</td>\n",
       "      <td>0.70</td>\n",
       "    </tr>\n",
       "    <tr>\n",
       "      <th>1</th>\n",
       "      <td>{'max_depth': 1, 'min_samples_split': 3}</td>\n",
       "      <td>0.700000</td>\n",
       "      <td>5</td>\n",
       "      <td>0.700</td>\n",
       "      <td>0.7</td>\n",
       "      <td>0.70</td>\n",
       "    </tr>\n",
       "    <tr>\n",
       "      <th>2</th>\n",
       "      <td>{'max_depth': 2, 'min_samples_split': 2}</td>\n",
       "      <td>0.958333</td>\n",
       "      <td>3</td>\n",
       "      <td>0.925</td>\n",
       "      <td>1.0</td>\n",
       "      <td>0.95</td>\n",
       "    </tr>\n",
       "    <tr>\n",
       "      <th>3</th>\n",
       "      <td>{'max_depth': 2, 'min_samples_split': 3}</td>\n",
       "      <td>0.958333</td>\n",
       "      <td>3</td>\n",
       "      <td>0.925</td>\n",
       "      <td>1.0</td>\n",
       "      <td>0.95</td>\n",
       "    </tr>\n",
       "    <tr>\n",
       "      <th>4</th>\n",
       "      <td>{'max_depth': 3, 'min_samples_split': 2}</td>\n",
       "      <td>0.975000</td>\n",
       "      <td>1</td>\n",
       "      <td>0.975</td>\n",
       "      <td>1.0</td>\n",
       "      <td>0.95</td>\n",
       "    </tr>\n",
       "    <tr>\n",
       "      <th>5</th>\n",
       "      <td>{'max_depth': 3, 'min_samples_split': 3}</td>\n",
       "      <td>0.975000</td>\n",
       "      <td>1</td>\n",
       "      <td>0.975</td>\n",
       "      <td>1.0</td>\n",
       "      <td>0.95</td>\n",
       "    </tr>\n",
       "  </tbody>\n",
       "</table>\n",
       "</div>"
      ],
      "text/plain": [
       "                                     params  mean_test_score  rank_test_score  \\\n",
       "0  {'max_depth': 1, 'min_samples_split': 2}         0.700000                5   \n",
       "1  {'max_depth': 1, 'min_samples_split': 3}         0.700000                5   \n",
       "2  {'max_depth': 2, 'min_samples_split': 2}         0.958333                3   \n",
       "3  {'max_depth': 2, 'min_samples_split': 3}         0.958333                3   \n",
       "4  {'max_depth': 3, 'min_samples_split': 2}         0.975000                1   \n",
       "5  {'max_depth': 3, 'min_samples_split': 3}         0.975000                1   \n",
       "\n",
       "   split0_test_score  split1_test_score  split2_test_score  \n",
       "0              0.700                0.7               0.70  \n",
       "1              0.700                0.7               0.70  \n",
       "2              0.925                1.0               0.95  \n",
       "3              0.925                1.0               0.95  \n",
       "4              0.975                1.0               0.95  \n",
       "5              0.975                1.0               0.95  "
      ]
     },
     "execution_count": 80,
     "metadata": {},
     "output_type": "execute_result"
    }
   ],
   "source": [
    "# 필요한 열만 추출\n",
    "scores_df[['params', 'mean_test_score', 'rank_test_score', 'split0_test_score', 'split1_test_score', 'split2_test_score']]"
   ]
  },
  {
   "cell_type": "code",
   "execution_count": 81,
   "id": "60f8731e-7849-4290-895a-b8645b77a919",
   "metadata": {},
   "outputs": [
    {
     "data": {
      "text/plain": [
       "0.975"
      ]
     },
     "execution_count": 81,
     "metadata": {},
     "output_type": "execute_result"
    }
   ],
   "source": [
    "grid_dtree.best_score_"
   ]
  },
  {
   "cell_type": "code",
   "execution_count": 82,
   "id": "e375e2af-025b-42ec-9c8f-644ef1d8c56a",
   "metadata": {},
   "outputs": [
    {
     "data": {
      "text/plain": [
       "4"
      ]
     },
     "execution_count": 82,
     "metadata": {},
     "output_type": "execute_result"
    }
   ],
   "source": [
    "grid_dtree.best_index_"
   ]
  },
  {
   "cell_type": "code",
   "execution_count": 84,
   "id": "084217d7-31fa-4f07-99ce-626aa6802452",
   "metadata": {},
   "outputs": [
    {
     "data": {
      "text/plain": [
       "DecisionTreeClassifier(max_depth=3)"
      ]
     },
     "execution_count": 84,
     "metadata": {},
     "output_type": "execute_result"
    }
   ],
   "source": [
    "# 학습된 모델\n",
    "grid_dtree.best_estimator_"
   ]
  },
  {
   "cell_type": "code",
   "execution_count": 86,
   "id": "3b10627b-dcd8-44b1-a90b-5863d6aeed19",
   "metadata": {},
   "outputs": [],
   "source": [
    "# 결과값\n",
    "pred = grid_dtree.best_estimator_.predict(x_test)"
   ]
  },
  {
   "cell_type": "code",
   "execution_count": 87,
   "id": "82a596e9-e5c4-47f7-9cca-33684586372e",
   "metadata": {},
   "outputs": [
    {
     "name": "stdout",
     "output_type": "stream",
     "text": [
      "best estimator 정확도 0.9666666666666667\n"
     ]
    }
   ],
   "source": [
    "# 정확도 체크\n",
    "print(\"best estimator 정확도\", accuracy_score(y_test, pred))"
   ]
  },
  {
   "cell_type": "code",
   "execution_count": 88,
   "id": "ec729be7-3c5b-47fe-a36e-ec8618873602",
   "metadata": {},
   "outputs": [],
   "source": [
    "from sklearn.preprocessing import LabelEncoder"
   ]
  },
  {
   "cell_type": "code",
   "execution_count": 89,
   "id": "dceca837-b7f2-4202-a55a-8910fe782f34",
   "metadata": {},
   "outputs": [
    {
     "data": {
      "text/plain": [
       "['TV', '냉장고', '전자레인지', '컴퓨터', '선풍기', '선풍기', '믹서', '믹서']"
      ]
     },
     "execution_count": 89,
     "metadata": {},
     "output_type": "execute_result"
    }
   ],
   "source": [
    "items = ['TV','냉장고','전자레인지','컴퓨터','선풍기','선풍기','믹서','믹서']\n",
    "items"
   ]
  },
  {
   "cell_type": "code",
   "execution_count": 90,
   "id": "c1ddccc7-38b9-48c5-b19d-4e5a733799b5",
   "metadata": {},
   "outputs": [],
   "source": [
    "encoder = LabelEncoder() \n",
    "encoder.fit(items)\n",
    "labels = encoder.transform(items)"
   ]
  },
  {
   "cell_type": "code",
   "execution_count": 91,
   "id": "1906c713-a2a9-4d91-9ddc-53a7b15192d6",
   "metadata": {},
   "outputs": [
    {
     "data": {
      "text/plain": [
       "array([0, 1, 4, 5, 3, 3, 2, 2])"
      ]
     },
     "execution_count": 91,
     "metadata": {},
     "output_type": "execute_result"
    }
   ],
   "source": [
    "labels"
   ]
  },
  {
   "cell_type": "code",
   "execution_count": 92,
   "id": "c308596b-eea3-4838-be51-ebc925666633",
   "metadata": {},
   "outputs": [
    {
     "data": {
      "text/plain": [
       "array(['TV', '냉장고', '믹서', '선풍기', '전자레인지', '컴퓨터'], dtype='<U5')"
      ]
     },
     "execution_count": 92,
     "metadata": {},
     "output_type": "execute_result"
    }
   ],
   "source": [
    "encoder.classes_"
   ]
  },
  {
   "cell_type": "code",
   "execution_count": 93,
   "id": "2804dab8-e706-4e95-95c6-65c4acf74381",
   "metadata": {},
   "outputs": [
    {
     "data": {
      "text/plain": [
       "array(['TV', '냉장고', '전자레인지', '컴퓨터', '선풍기', '선풍기', '믹서', '믹서'], dtype='<U5')"
      ]
     },
     "execution_count": 93,
     "metadata": {},
     "output_type": "execute_result"
    }
   ],
   "source": [
    "# 숫자를 다시 문자로 (label encoding)\n",
    "encoder.inverse_transform(labels)"
   ]
  },
  {
   "cell_type": "code",
   "execution_count": 94,
   "id": "fa03dcd3-4df5-403a-872d-456ff5f5835b",
   "metadata": {},
   "outputs": [],
   "source": [
    "from sklearn.preprocessing import OneHotEncoder"
   ]
  },
  {
   "cell_type": "code",
   "execution_count": 95,
   "id": "de7910b6-c969-4d53-b663-cba70f0a7852",
   "metadata": {},
   "outputs": [
    {
     "data": {
      "text/plain": [
       "array([0, 1, 4, 5, 3, 3, 2, 2], dtype=int64)"
      ]
     },
     "execution_count": 95,
     "metadata": {},
     "output_type": "execute_result"
    }
   ],
   "source": [
    "# 한번에 변환하기\n",
    "encoder = LabelEncoder()\n",
    "labels = encoder.fit_transform(items)\n",
    "labels"
   ]
  },
  {
   "cell_type": "code",
   "execution_count": 99,
   "id": "dc6b685f-e2ba-4483-9d43-6535e98d0a36",
   "metadata": {},
   "outputs": [
    {
     "data": {
      "text/plain": [
       "(1, 8)"
      ]
     },
     "execution_count": 99,
     "metadata": {},
     "output_type": "execute_result"
    }
   ],
   "source": [
    "labels.shape # 1차원임. 이렇게 하면 오류남\n",
    "labels = labels.reshape(1,-1) # 차원 바꿔주기\n",
    "labels.shape"
   ]
  },
  {
   "cell_type": "code",
   "execution_count": 110,
   "id": "f71124d9-fa91-4c66-9849-49d2d97f0e80",
   "metadata": {},
   "outputs": [],
   "source": [
    "oh_encoder = OneHotEncoder()\n",
    "oh_labels = oh_encoder.fit_transform(labels)"
   ]
  },
  {
   "cell_type": "code",
   "execution_count": 113,
   "id": "d6e386da-2ed6-4e85-a11e-8b9628d66ebc",
   "metadata": {},
   "outputs": [
    {
     "data": {
      "text/plain": [
       "[array([0], dtype=int64),\n",
       " array([1], dtype=int64),\n",
       " array([4], dtype=int64),\n",
       " array([5], dtype=int64),\n",
       " array([3], dtype=int64),\n",
       " array([3], dtype=int64),\n",
       " array([2], dtype=int64),\n",
       " array([2], dtype=int64)]"
      ]
     },
     "execution_count": 113,
     "metadata": {},
     "output_type": "execute_result"
    }
   ],
   "source": [
    "oh_encoder.categories_"
   ]
  },
  {
   "cell_type": "code",
   "execution_count": 115,
   "id": "857cb4ba-9b4d-4c90-a88a-ac768d29a2a6",
   "metadata": {},
   "outputs": [
    {
     "data": {
      "text/plain": [
       "True"
      ]
     },
     "execution_count": 115,
     "metadata": {},
     "output_type": "execute_result"
    }
   ],
   "source": [
    "oh_encoder.sparse"
   ]
  },
  {
   "cell_type": "code",
   "execution_count": 119,
   "id": "97ffa37b-8e6d-47b0-93f3-7c5ab1dc4ad1",
   "metadata": {},
   "outputs": [
    {
     "data": {
      "text/plain": [
       "array([[1., 1., 1., 1., 1., 1., 1., 1.]])"
      ]
     },
     "execution_count": 119,
     "metadata": {},
     "output_type": "execute_result"
    }
   ],
   "source": [
    "oh_labels.toarray()"
   ]
  },
  {
   "cell_type": "code",
   "execution_count": 118,
   "id": "585d02a0-2de4-4a18-957b-7c0dece17d6b",
   "metadata": {},
   "outputs": [
    {
     "data": {
      "text/plain": [
       "array([1., 1., 1., 1., 1., 1., 1., 1.])"
      ]
     },
     "execution_count": 118,
     "metadata": {},
     "output_type": "execute_result"
    }
   ],
   "source": [
    "oh_labels.data"
   ]
  },
  {
   "cell_type": "code",
   "execution_count": 121,
   "id": "af7e02ca-4b50-4915-bea4-8387e5fe31b1",
   "metadata": {},
   "outputs": [],
   "source": [
    "# 원핫인코딩보다 밑의 판다스를 사용한게 더 수월함\n",
    "df = pd.DataFrame({'item':['TV','냉장고','전자레인지','컴퓨터','선풍기','선풍기','믹서','믹서']})"
   ]
  },
  {
   "cell_type": "code",
   "execution_count": 122,
   "id": "59b85810-83ab-4497-8045-cfa3531f9878",
   "metadata": {},
   "outputs": [
    {
     "data": {
      "text/html": [
       "<div>\n",
       "<style scoped>\n",
       "    .dataframe tbody tr th:only-of-type {\n",
       "        vertical-align: middle;\n",
       "    }\n",
       "\n",
       "    .dataframe tbody tr th {\n",
       "        vertical-align: top;\n",
       "    }\n",
       "\n",
       "    .dataframe thead th {\n",
       "        text-align: right;\n",
       "    }\n",
       "</style>\n",
       "<table border=\"1\" class=\"dataframe\">\n",
       "  <thead>\n",
       "    <tr style=\"text-align: right;\">\n",
       "      <th></th>\n",
       "      <th>item</th>\n",
       "    </tr>\n",
       "  </thead>\n",
       "  <tbody>\n",
       "    <tr>\n",
       "      <th>0</th>\n",
       "      <td>TV</td>\n",
       "    </tr>\n",
       "    <tr>\n",
       "      <th>1</th>\n",
       "      <td>냉장고</td>\n",
       "    </tr>\n",
       "    <tr>\n",
       "      <th>2</th>\n",
       "      <td>전자레인지</td>\n",
       "    </tr>\n",
       "    <tr>\n",
       "      <th>3</th>\n",
       "      <td>컴퓨터</td>\n",
       "    </tr>\n",
       "    <tr>\n",
       "      <th>4</th>\n",
       "      <td>선풍기</td>\n",
       "    </tr>\n",
       "    <tr>\n",
       "      <th>5</th>\n",
       "      <td>선풍기</td>\n",
       "    </tr>\n",
       "    <tr>\n",
       "      <th>6</th>\n",
       "      <td>믹서</td>\n",
       "    </tr>\n",
       "    <tr>\n",
       "      <th>7</th>\n",
       "      <td>믹서</td>\n",
       "    </tr>\n",
       "  </tbody>\n",
       "</table>\n",
       "</div>"
      ],
      "text/plain": [
       "    item\n",
       "0     TV\n",
       "1    냉장고\n",
       "2  전자레인지\n",
       "3    컴퓨터\n",
       "4    선풍기\n",
       "5    선풍기\n",
       "6     믹서\n",
       "7     믹서"
      ]
     },
     "execution_count": 122,
     "metadata": {},
     "output_type": "execute_result"
    }
   ],
   "source": [
    "df"
   ]
  },
  {
   "cell_type": "code",
   "execution_count": 124,
   "id": "2f982bd2-3fb3-4a60-b21a-b86d3e2bf9de",
   "metadata": {},
   "outputs": [
    {
     "data": {
      "text/plain": [
       "array([[1, 0, 0, 0, 0, 0],\n",
       "       [0, 1, 0, 0, 0, 0],\n",
       "       [0, 0, 0, 0, 1, 0],\n",
       "       [0, 0, 0, 0, 0, 1],\n",
       "       [0, 0, 0, 1, 0, 0],\n",
       "       [0, 0, 0, 1, 0, 0],\n",
       "       [0, 0, 1, 0, 0, 0],\n",
       "       [0, 0, 1, 0, 0, 0]], dtype=uint8)"
      ]
     },
     "execution_count": 124,
     "metadata": {},
     "output_type": "execute_result"
    }
   ],
   "source": [
    "pd.get_dummies(df).values"
   ]
  },
  {
   "cell_type": "code",
   "execution_count": null,
   "id": "c5cc01e5-1e80-4ecf-a57c-a738bd500cb1",
   "metadata": {},
   "outputs": [],
   "source": []
  }
 ],
 "metadata": {
  "kernelspec": {
   "display_name": "Python 3",
   "language": "python",
   "name": "python3"
  },
  "language_info": {
   "codemirror_mode": {
    "name": "ipython",
    "version": 3
   },
   "file_extension": ".py",
   "mimetype": "text/x-python",
   "name": "python",
   "nbconvert_exporter": "python",
   "pygments_lexer": "ipython3",
   "version": "3.8.8"
  }
 },
 "nbformat": 4,
 "nbformat_minor": 5
}
